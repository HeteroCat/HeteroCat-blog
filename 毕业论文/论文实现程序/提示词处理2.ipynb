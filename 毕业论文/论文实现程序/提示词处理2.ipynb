{
 "cells": [
  {
   "cell_type": "code",
   "execution_count": 1,
   "id": "f0ab1474",
   "metadata": {},
   "outputs": [],
   "source": [
    "a1=\"风景如世外桃源般绚丽，高山连绵万里曲折盘旋，山峰直插云霄，一行行白鹭翔向远方，一列列大雁飞向南方，天空湛蓝，太阳血红挂天边，构成遥远而美丽的景色。\"\n",
    "a2=\"世外桃源般的景致，连绵万里的高山蜿蜒延伸，山峰耸立云端，白鹭成行飞往远方，大雁排列南飞，苍穹湛蓝，太阳火红悬天边，遥远构成美丽景象。\"\n",
    "a3=\"虚幻般的世外桃源景致，高山蜿蜒绵延万里，山峰直冲云霄，白鹭列阵扑向远方，大雁阵列飞向南方，蓝天无边，太阳赤红悬天边，遥远构成一幅美景。\"\n",
    "a4=\"世外桃源般的风景，连绵万里高山蜿蜒盘旋，山峰挺立云霄，白鹭一行行飞向远方，大雁一列列向南疾飞，蓝天澄清，太阳火红挂天际，遥远构成美丽景色。\"\n",
    "a5=\"世外桃源般的风景，高山峰峦连绵万里曲折盘旋，直插云霄，白鹭婉约飞远，大雁阵如南飞，蓝天碧空，太阳熠熠挂边，遥遥构成美丽景观。\"\n",
    "a6=\"仿佛世外桃源的景色，连绵万里的高山蜿蜒盘旋，山峰直插云霄，一行行白鹭飞向远方，一列列大雁向南飞去，蔚蓝的天空，火红的太阳挂天边，远远地构成美丽的风景。\"\n",
    "a7=\"世外桃源般的风光，高山峦连绵万里曲折盘旋，山峰拔地云霄，白鹭群飞远方，大雁队列南飞，蓝天辽阔，太阳红彤彤挂边，远处组成美景。\"\n",
    "a8=\"想象世外桃源般的景致，高山绵延万里曲折盘旋，山峰耸立云端，白鹭成行飞向远方，大雁列队飞向南方，蓝天无垠，太阳赤红挂天边，远远构成美丽景象。\""
   ]
  },
  {
   "cell_type": "code",
   "execution_count": 2,
   "id": "eef776e0",
   "metadata": {},
   "outputs": [],
   "source": [
    "import pandas\n",
    "import random"
   ]
  },
  {
   "cell_type": "code",
   "execution_count": 4,
   "id": "fb0e89f1",
   "metadata": {},
   "outputs": [
    {
     "name": "stdout",
     "output_type": "stream",
     "text": [
      "[(3, 5), (7, 8), (1, 2), (4, 6)]\n"
     ]
    }
   ],
   "source": [
    "# 定义1-8的数字列表\n",
    "numbers = [1, 2, 3, 4, 5, 6, 7, 8]\n",
    "\n",
    "# 打乱数字的顺序\n",
    "random.shuffle(numbers)\n",
    "\n",
    "# 将数字两两配对\n",
    "pairs = [(numbers[i], numbers[i+1]) for i in range(0, len(numbers), 2)]\n",
    "\n",
    "# 打印配对结果\n",
    "print(pairs)"
   ]
  },
  {
   "cell_type": "code",
   "execution_count": 13,
   "id": "4d949620",
   "metadata": {},
   "outputs": [
    {
     "name": "stdout",
     "output_type": "stream",
     "text": [
      "6\n"
     ]
    }
   ],
   "source": [
    "# 生成随机整数\n",
    "random_integer = random.randint(1, 7)  # 生成1到100之间的随机整数\n",
    "print(random_integer)"
   ]
  },
  {
   "cell_type": "code",
   "execution_count": 8,
   "id": "8c955fcd",
   "metadata": {},
   "outputs": [
    {
     "name": "stdout",
     "output_type": "stream",
     "text": [
      "虚幻般的世外桃源景致,高山蜿蜒绵延万里,山峰直冲云霄,白鹭列阵扑向远方,大雁阵列飞向南方,蓝天碧空,太阳熠熠挂边,遥遥构成美丽景观。\n"
     ]
    }
   ],
   "source": [
    "\n",
    "# 使用逗号分割字符串\n",
    "parts_a3 = a3.split(\"，\")\n",
    "parts_a5 = a5.split(\"，\")\n",
    "\n",
    "# 获取新的句子\n",
    "new_sentence1 = \",\".join([parts_a3[i] for i in range(5)] + [parts_a5[i] for i in range(5, len(parts_a5))])\n",
    "\n",
    "# 打印新的句子\n",
    "print(new_sentence1)\n"
   ]
  },
  {
   "cell_type": "code",
   "execution_count": 10,
   "id": "571287e2",
   "metadata": {},
   "outputs": [
    {
     "name": "stdout",
     "output_type": "stream",
     "text": [
      "世外桃源般的风光,高山峦连绵万里曲折盘旋,山峰拔地云霄,白鹭群飞远方,大雁队列南飞,蓝天辽阔,太阳赤红挂天边,远远构成美丽景象。\n"
     ]
    }
   ],
   "source": [
    "# 使用逗号分割字符串\n",
    "parts_a7 = a7.split(\"，\")\n",
    "parts_a8 = a8.split(\"，\")\n",
    "\n",
    "# 获取新的句子\n",
    "new_sentence2 = \",\".join([parts_a7[i] for i in range(6)] + [parts_a8[i] for i in range(6, len(parts_a8))])\n",
    "\n",
    "# 打印新的句子\n",
    "print(new_sentence2)\n"
   ]
  },
  {
   "cell_type": "code",
   "execution_count": 12,
   "id": "4a3dbfc0",
   "metadata": {},
   "outputs": [
    {
     "name": "stdout",
     "output_type": "stream",
     "text": [
      "风景如世外桃源般绚丽,高山连绵万里曲折盘旋,山峰耸立云端,白鹭成行飞往远方,大雁排列南飞,苍穹湛蓝,太阳火红悬天边,遥远构成美丽景象。\n"
     ]
    }
   ],
   "source": [
    "# 使用逗号分割字符串\n",
    "parts_a1 = a1.split(\"，\")\n",
    "parts_a2 = a2.split(\"，\")\n",
    "\n",
    "# 获取新的句子\n",
    "new_sentence3 = \",\".join([parts_a1[i] for i in range(2)] + [parts_a2[i] for i in range(2, len(parts_a2))])\n",
    "\n",
    "# 打印新的句子\n",
    "print(new_sentence3)"
   ]
  },
  {
   "cell_type": "code",
   "execution_count": 14,
   "id": "5c1c19f9",
   "metadata": {},
   "outputs": [
    {
     "name": "stdout",
     "output_type": "stream",
     "text": [
      "世外桃源般的风景,连绵万里高山蜿蜒盘旋,山峰挺立云霄,白鹭一行行飞向远方,大雁一列列向南疾飞,蓝天澄清,火红的太阳挂天边,远远地构成美丽的风景。\n"
     ]
    }
   ],
   "source": [
    "# 使用逗号分割字符串\n",
    "parts_a4 = a4.split(\"，\")\n",
    "parts_a6 = a6.split(\"，\")\n",
    "\n",
    "# 获取新的句子\n",
    "new_sentence4 = \",\".join([parts_a4[i] for i in range(6)] + [parts_a6[i] for i in range(6, len(parts_a6))])\n",
    "\n",
    "# 打印新的句子\n",
    "print(new_sentence4)"
   ]
  },
  {
   "cell_type": "code",
   "execution_count": 17,
   "id": "1676e7dd",
   "metadata": {},
   "outputs": [
    {
     "name": "stdout",
     "output_type": "stream",
     "text": [
      "[(1, 3), (4, 2)]\n"
     ]
    }
   ],
   "source": [
    "# 定义1-4的数字列表\n",
    "numbers = [1, 2, 3, 4]\n",
    "\n",
    "# 打乱数字的顺序\n",
    "random.shuffle(numbers)\n",
    "\n",
    "# 将数字两两配对\n",
    "pairs = [(numbers[i], numbers[i+1]) for i in range(0, len(numbers), 2)]\n",
    "\n",
    "# 打印配对结果\n",
    "print(pairs)"
   ]
  },
  {
   "cell_type": "code",
   "execution_count": 26,
   "id": "5c2827c3",
   "metadata": {},
   "outputs": [
    {
     "name": "stdout",
     "output_type": "stream",
     "text": [
      "4\n"
     ]
    }
   ],
   "source": [
    "# 生成随机整数\n",
    "random_integer = random.randint(1, 7)  # 生成1到100之间的随机整数\n",
    "print(random_integer)"
   ]
  },
  {
   "cell_type": "code",
   "execution_count": 23,
   "id": "43dbcbd2",
   "metadata": {},
   "outputs": [
    {
     "name": "stdout",
     "output_type": "stream",
     "text": [
      "虚幻般的世外桃源景致,高山蜿蜒绵延万里,山峰直冲云霄,白鹭列阵扑向远方,大雁阵列飞向南方,蓝天碧空,太阳熠熠挂边,遥远构成美丽景象。\n"
     ]
    }
   ],
   "source": [
    "\n",
    "# 使用逗号分割字符串\n",
    "parts_a1 = new_sentence1.split(\",\")\n",
    "parts_a3 = new_sentence3.split(\",\")\n",
    "\n",
    "# 获取新的句子\n",
    "new_1 = \",\".join([parts_a1[i] for i in range(7)] + [parts_a3[i] for i in range(7, len(parts_a3))])\n",
    "\n",
    "# 打印新的句子\n",
    "print(new_1)"
   ]
  },
  {
   "cell_type": "code",
   "execution_count": 27,
   "id": "1ee419fd",
   "metadata": {},
   "outputs": [
    {
     "name": "stdout",
     "output_type": "stream",
     "text": [
      "世外桃源般的风景,连绵万里高山蜿蜒盘旋,山峰挺立云霄,白鹭一行行飞向远方,大雁队列南飞,蓝天辽阔,太阳赤红挂天边,远远构成美丽景象。\n"
     ]
    }
   ],
   "source": [
    "\n",
    "# 使用逗号分割字符串\n",
    "parts_a4 = new_sentence4.split(\",\")\n",
    "parts_a2 = new_sentence2.split(\",\")\n",
    "\n",
    "# 获取新的句子\n",
    "new_2 = \",\".join([parts_a4[i] for i in range(4)] + [parts_a2[i] for i in range(4, len(parts_a2))])\n",
    "\n",
    "# 打印新的句子\n",
    "print(new_2)"
   ]
  },
  {
   "cell_type": "code",
   "execution_count": 28,
   "id": "305ee192",
   "metadata": {},
   "outputs": [
    {
     "name": "stdout",
     "output_type": "stream",
     "text": [
      "2\n"
     ]
    }
   ],
   "source": [
    "# 生成随机整数\n",
    "random_integer = random.randint(1, 6)  # 生成1到100之间的随机整数\n",
    "print(random_integer)"
   ]
  },
  {
   "cell_type": "code",
   "execution_count": 29,
   "id": "df168e7b",
   "metadata": {},
   "outputs": [
    {
     "name": "stdout",
     "output_type": "stream",
     "text": [
      "虚幻般的世外桃源景致,高山蜿蜒绵延万里,山峰挺立云霄,白鹭一行行飞向远方,大雁队列南飞,蓝天辽阔,太阳赤红挂天边,远远构成美丽景象。\n"
     ]
    }
   ],
   "source": [
    "# 使用逗号分割字符串\n",
    "parts_a1 = new_1.split(\",\")\n",
    "parts_a2 = new_2.split(\",\")\n",
    "\n",
    "# 获取新的句子\n",
    "new = \",\".join([parts_a1[i] for i in range(2)] + [parts_a2[i] for i in range(2, len(parts_a2))])\n",
    "\n",
    "# 打印新的句子\n",
    "print(new)"
   ]
  },
  {
   "cell_type": "code",
   "execution_count": null,
   "id": "c2d479cd",
   "metadata": {},
   "outputs": [],
   "source": []
  }
 ],
 "metadata": {
  "kernelspec": {
   "display_name": "Python 3 (ipykernel)",
   "language": "python",
   "name": "python3"
  },
  "language_info": {
   "codemirror_mode": {
    "name": "ipython",
    "version": 3
   },
   "file_extension": ".py",
   "mimetype": "text/x-python",
   "name": "python",
   "nbconvert_exporter": "python",
   "pygments_lexer": "ipython3",
   "version": "3.9.12"
  }
 },
 "nbformat": 4,
 "nbformat_minor": 5
}
