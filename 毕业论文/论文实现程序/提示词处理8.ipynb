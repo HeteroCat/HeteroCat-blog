{
 "cells": [
  {
   "cell_type": "code",
   "execution_count": 6,
   "id": "0d49555f",
   "metadata": {},
   "outputs": [],
   "source": [
    "a1=\"一个圆形玻璃瓶被一片大叶子包裹，瓶内生长着植物和树叶，散发出梦幻缤纷的感觉，仿佛置身于3D世界，被明亮的光线照耀着，背景简单而优雅。\"\n",
    "a2=\"大叶子环绕着一个圆形玻璃瓶，里面种植着植物和树叶，呈现出梦幻缤纷的景象，带有3D效果，被明亮的光线照耀，背景简洁而清新。\"\n",
    "a3=\"一片大叶子将圆形玻璃瓶包裹，瓶内装有植物和树叶，展现出梦幻缤纷的景象，具有3D效果，被明亮光线照耀，背景简单清新。\"\n",
    "a4=\"大叶子覆盖着圆形玻璃瓶，容器内生长着植物和树叶，散发出梦幻缤纷的氛围，呈现出3D效果，被明亮光线照耀，简约背景。\"\n",
    "a5=\"一片大叶子环绕着圆形玻璃瓶，瓶内栽种着植物和树叶，展现出梦幻缤纷的情景，3D效果明显，光线明亮，背景简单干净。\"\n",
    "a6=\"大叶子包裹着圆形玻璃瓶，瓶中盛放植物和树叶，呈现梦幻缤纷的效果，具有3D感，被明亮光线照耀着，背景简洁明朗。\"\n",
    "a7=\"圆形玻璃瓶被一片大叶子覆盖，瓶内种植着植物和树叶，展现梦幻缤纷的景象，3D效果鲜明，受明亮光线照射，背景简单而美丽。\"\n",
    "a8=\"大叶子环绕着一个圆形玻璃瓶，里面栽种着植物和树叶，呈现出梦幻缤纷的画面，具有3D效果，光线明亮，背景简洁清新。\""
   ]
  },
  {
   "cell_type": "code",
   "execution_count": 2,
   "id": "e2260c4b",
   "metadata": {},
   "outputs": [
    {
     "name": "stdout",
     "output_type": "stream",
     "text": [
      "[(1, 3), (8, 6), (5, 4), (2, 7)]\n"
     ]
    }
   ],
   "source": [
    "import pandas\n",
    "import random\n",
    "\n",
    "# 定义1-8的数字列表\n",
    "numbers = [1, 2, 3, 4, 5, 6, 7, 8]\n",
    "\n",
    "# 打乱数字的顺序\n",
    "random.shuffle(numbers)\n",
    "\n",
    "# 将数字两两配对\n",
    "pairs = [(numbers[i], numbers[i+1]) for i in range(0, len(numbers), 2)]\n",
    "\n",
    "# 打印配对结果\n",
    "print(pairs)"
   ]
  },
  {
   "cell_type": "code",
   "execution_count": 4,
   "id": "2bcd0f5e",
   "metadata": {},
   "outputs": [
    {
     "name": "stdout",
     "output_type": "stream",
     "text": [
      "2 5 1 3\n"
     ]
    }
   ],
   "source": [
    "# 生成随机整数\n",
    "random_integer1 = random.randint(1,5)  # 生成1到100之间的随机整数\n",
    "random_integer2 = random.randint(1,5)\n",
    "random_integer3 = random.randint(1,5)\n",
    "random_integer4 = random.randint(1,5)\n",
    "print(random_integer1,random_integer2,random_integer3,random_integer4)"
   ]
  },
  {
   "cell_type": "code",
   "execution_count": 7,
   "id": "99a7be11",
   "metadata": {},
   "outputs": [
    {
     "name": "stdout",
     "output_type": "stream",
     "text": [
      "一个圆形玻璃瓶被一片大叶子包裹,瓶内生长着植物和树叶,展现出梦幻缤纷的景象,具有3D效果,被明亮光线照耀,背景简单清新。\n",
      "大叶子环绕着一个圆形玻璃瓶,里面栽种着植物和树叶,呈现出梦幻缤纷的画面,具有3D效果,光线明亮,背景简洁明朗。\n",
      "一片大叶子环绕着圆形玻璃瓶,容器内生长着植物和树叶,散发出梦幻缤纷的氛围,呈现出3D效果,被明亮光线照耀,简约背景。\n",
      "大叶子环绕着一个圆形玻璃瓶,里面种植着植物和树叶,呈现出梦幻缤纷的景象,3D效果鲜明,受明亮光线照射,背景简单而美丽。\n"
     ]
    }
   ],
   "source": [
    "\n",
    "# 使用逗号分割字符串\n",
    "parts_a1 = a1.split(\"，\")\n",
    "parts_a3 = a3.split(\"，\")\n",
    "\n",
    "# 获取新的句子\n",
    "new_sentence1 = \",\".join([parts_a1[i] for i in range(2)] + [parts_a3[i] for i in range(2, len(parts_a3))])\n",
    "\n",
    "# 打印新的句子\n",
    "print(new_sentence1)\n",
    "\n",
    "# 使用逗号分割字符串\n",
    "parts_a8 = a8.split(\"，\")\n",
    "parts_a6 = a6.split(\"，\")\n",
    "\n",
    "# 获取新的句子\n",
    "new_sentence2 = \",\".join([parts_a8[i] for i in range(5)] + [parts_a6[i] for i in range(5,len(parts_a6))])\n",
    "\n",
    "# 打印新的句子\n",
    "print(new_sentence2)\n",
    "\n",
    "# 使用逗号分割字符串\n",
    "parts_a5 = a5.split(\"，\")\n",
    "parts_a4 = a4.split(\"，\")\n",
    "\n",
    "# 获取新的句子\n",
    "new_sentence3 = \",\".join([parts_a5[i] for i in range(1)] + [parts_a4[i] for i in range(1,len(parts_a4))])\n",
    "\n",
    "# 打印新的句子\n",
    "print(new_sentence3)\n",
    "\n",
    "# 使用逗号分割字符串\n",
    "parts_a2 = a2.split(\"，\")\n",
    "parts_a7 = a7.split(\"，\")\n",
    "\n",
    "# 获取新的句子\n",
    "new_sentence4 = \",\".join([parts_a2[i] for i in range(3)] + [parts_a7[i] for i in range(3,len(parts_a7))])\n",
    "\n",
    "# 打印新的句子\n",
    "print(new_sentence4)"
   ]
  },
  {
   "cell_type": "code",
   "execution_count": 8,
   "id": "544d318a",
   "metadata": {},
   "outputs": [
    {
     "name": "stdout",
     "output_type": "stream",
     "text": [
      "[(2, 4), (1, 3)]\n"
     ]
    }
   ],
   "source": [
    "# 定义1-4的数字列表\n",
    "numbers = [1, 2, 3, 4]\n",
    "\n",
    "# 打乱数字的顺序\n",
    "random.shuffle(numbers)\n",
    "\n",
    "# 将数字两两配对\n",
    "pairs = [(numbers[i], numbers[i+1]) for i in range(0, len(numbers), 2)]\n",
    "\n",
    "# 打印配对结果\n",
    "print(pairs)"
   ]
  },
  {
   "cell_type": "code",
   "execution_count": 9,
   "id": "8e7c3aee",
   "metadata": {},
   "outputs": [
    {
     "name": "stdout",
     "output_type": "stream",
     "text": [
      "4 3\n"
     ]
    }
   ],
   "source": [
    "# 生成随机整数\n",
    "random_integer1 = random.randint(1,5)  # 生成1到100之间的随机整数\n",
    "random_integer2 = random.randint(1,5)\n",
    "\n",
    "print(random_integer1,random_integer2)"
   ]
  },
  {
   "cell_type": "code",
   "execution_count": 10,
   "id": "3683b4b0",
   "metadata": {},
   "outputs": [
    {
     "name": "stdout",
     "output_type": "stream",
     "text": [
      "大叶子环绕着一个圆形玻璃瓶,里面栽种着植物和树叶,呈现出梦幻缤纷的画面,具有3D效果,受明亮光线照射,背景简单而美丽。\n",
      "一个圆形玻璃瓶被一片大叶子包裹,瓶内生长着植物和树叶,展现出梦幻缤纷的景象,呈现出3D效果,被明亮光线照耀,简约背景。\n"
     ]
    }
   ],
   "source": [
    "\n",
    "# 使用逗号分割字符串\n",
    "parts_a2 = new_sentence2.split(\",\")\n",
    "parts_a4 = new_sentence4.split(\",\")\n",
    "\n",
    "# 获取新的句子\n",
    "new_1 = \",\".join([parts_a2[i] for i in range(4)] + [parts_a4[i] for i in range(4, len(parts_a4))])\n",
    "\n",
    "# 打印新的句子\n",
    "print(new_1)\n",
    "\n",
    "\n",
    "# 使用逗号分割字符串\n",
    "parts_a1 = new_sentence1.split(\",\")\n",
    "parts_a3 = new_sentence3.split(\",\")\n",
    "\n",
    "# 获取新的句子\n",
    "new_2 = \",\".join([parts_a1[i] for i in range(3)] + [parts_a3[i] for i in range(3, len(parts_a3))])\n",
    "\n",
    "# 打印新的句子\n",
    "print(new_2)"
   ]
  },
  {
   "cell_type": "code",
   "execution_count": 11,
   "id": "c683354c",
   "metadata": {},
   "outputs": [
    {
     "name": "stdout",
     "output_type": "stream",
     "text": [
      "3\n"
     ]
    }
   ],
   "source": [
    "# 生成随机整数\n",
    "random_integer1 = random.randint(1,5)  # 生成1到100之间的随机整数\n",
    "\n",
    "print(random_integer1)"
   ]
  },
  {
   "cell_type": "code",
   "execution_count": 12,
   "id": "7cc9a88f",
   "metadata": {},
   "outputs": [
    {
     "name": "stdout",
     "output_type": "stream",
     "text": [
      "大叶子环绕着一个圆形玻璃瓶,里面栽种着植物和树叶,呈现出梦幻缤纷的画面,呈现出3D效果,被明亮光线照耀,简约背景。\n"
     ]
    }
   ],
   "source": [
    "# 使用逗号分割字符串\n",
    "parts_a1 = new_1.split(\",\")\n",
    "parts_a2 = new_2.split(\",\")\n",
    "\n",
    "# 获取新的句子\n",
    "new = \",\".join([parts_a1[i] for i in range(3)] + [parts_a2[i] for i in range(3, len(parts_a2))])\n",
    "\n",
    "# 打印新的句子\n",
    "print(new)"
   ]
  },
  {
   "cell_type": "code",
   "execution_count": null,
   "id": "0e6509fb",
   "metadata": {},
   "outputs": [],
   "source": []
  }
 ],
 "metadata": {
  "kernelspec": {
   "display_name": "Python 3 (ipykernel)",
   "language": "python",
   "name": "python3"
  },
  "language_info": {
   "codemirror_mode": {
    "name": "ipython",
    "version": 3
   },
   "file_extension": ".py",
   "mimetype": "text/x-python",
   "name": "python",
   "nbconvert_exporter": "python",
   "pygments_lexer": "ipython3",
   "version": "3.9.12"
  }
 },
 "nbformat": 4,
 "nbformat_minor": 5
}
