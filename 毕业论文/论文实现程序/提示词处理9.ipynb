{
 "cells": [
  {
   "cell_type": "code",
   "execution_count": 1,
   "id": "d41bce2b",
   "metadata": {},
   "outputs": [],
   "source": [
    "a1=\"美女在大海边翩翩起舞，夕阳与她相得益彰，互相呼应，渲染出一幅浪漫画面。\"\n",
    "a2=\"在大海旁，美女跳起舞蹈，夕阳点亮她的身影，与她相映成趣，营造出一种浪漫的氛围。\"\n",
    "a3=\"夕阳下，美女在大海旁跳舞，夕阳的余晖与她相辉，共同编织出一幅浪漫画面。\"\n",
    "a4=\"沿着大海，美女起舞，夕阳与她相互辉映，共同创造出一幅浪漫的景象。\"\n",
    "a5=\"大海边，美女舞姿轻盈，夕阳的余晖映照她的身影，与她相呼应，营造出一种浪漫的氛围。\"\n",
    "a6=\"在海边，美女跳起优美的舞蹈，夕阳温暖的光线与她相映成趣，共同构成一幅浪漫画面。\"\n",
    "a7=\"美女在大海旁,跳跃起舞，夕阳的光芒照亮她的身影，与她形成相互辉映的美丽画面。\"\n",
    "a8=\"沿着海岸线，美女翩翩起舞，夕阳的余晖与她形成互动，共同打造一幅浪漫唯美的场景。\""
   ]
  },
  {
   "cell_type": "code",
   "execution_count": 2,
   "id": "3ca8e391",
   "metadata": {},
   "outputs": [
    {
     "name": "stdout",
     "output_type": "stream",
     "text": [
      "[(7, 2), (5, 3), (4, 1), (8, 6)]\n"
     ]
    }
   ],
   "source": [
    "import pandas\n",
    "import random\n",
    "\n",
    "# 定义1-8的数字列表\n",
    "numbers = [1, 2, 3, 4, 5, 6, 7, 8]\n",
    "\n",
    "# 打乱数字的顺序\n",
    "random.shuffle(numbers)\n",
    "\n",
    "# 将数字两两配对\n",
    "pairs = [(numbers[i], numbers[i+1]) for i in range(0, len(numbers), 2)]\n",
    "\n",
    "# 打印配对结果\n",
    "print(pairs)"
   ]
  },
  {
   "cell_type": "code",
   "execution_count": 10,
   "id": "9e359241",
   "metadata": {},
   "outputs": [
    {
     "name": "stdout",
     "output_type": "stream",
     "text": [
      "3 2 1 1\n"
     ]
    }
   ],
   "source": [
    "# 生成随机整数\n",
    "random_integer1 = random.randint(1,3)  # 生成1到100之间的随机整数\n",
    "random_integer2 = random.randint(1,3)\n",
    "random_integer3 = random.randint(1,3)\n",
    "random_integer4 = random.randint(1,3)\n",
    "print(random_integer1,random_integer2,random_integer3,random_integer4)"
   ]
  },
  {
   "cell_type": "code",
   "execution_count": 11,
   "id": "eb74a22c",
   "metadata": {},
   "outputs": [
    {
     "name": "stdout",
     "output_type": "stream",
     "text": [
      "美女在大海旁,跳跃起舞,夕阳的光芒照亮她的身影,与她形成相互辉映的美丽画面。,与她相映成趣,营造出一种浪漫的氛围。\n",
      "大海边,美女舞姿轻盈,夕阳的余晖与她相辉,共同编织出一幅浪漫画面。\n",
      "沿着大海,夕阳与她相得益彰,互相呼应,渲染出一幅浪漫画面。\n",
      "沿着海岸线,美女跳起优美的舞蹈,夕阳温暖的光线与她相映成趣,共同构成一幅浪漫画面。\n"
     ]
    }
   ],
   "source": [
    "\n",
    "# 使用逗号分割字符串\n",
    "parts_a7 = a7.split(\"，\")\n",
    "parts_a2 = a2.split(\"，\")\n",
    "\n",
    "# 获取新的句子\n",
    "new_sentence1 = \",\".join([parts_a7[i] for i in range(3)] + [parts_a2[i] for i in range(3, len(parts_a2))])\n",
    "\n",
    "# 打印新的句子\n",
    "print(new_sentence1)\n",
    "\n",
    "# 使用逗号分割字符串\n",
    "parts_a5 = a5.split(\"，\")\n",
    "parts_a3 = a3.split(\"，\")\n",
    "\n",
    "# 获取新的句子\n",
    "new_sentence2 = \",\".join([parts_a5[i] for i in range(2)] + [parts_a3[i] for i in range(2,len(parts_a3))])\n",
    "\n",
    "# 打印新的句子\n",
    "print(new_sentence2)\n",
    "\n",
    "# 使用逗号分割字符串\n",
    "parts_a4 = a4.split(\"，\")\n",
    "parts_a1 = a1.split(\"，\")\n",
    "\n",
    "# 获取新的句子\n",
    "new_sentence3 = \",\".join([parts_a4[i] for i in range(1)] + [parts_a1[i] for i in range(1,len(parts_a1))])\n",
    "\n",
    "# 打印新的句子\n",
    "print(new_sentence3)\n",
    "\n",
    "# 使用逗号分割字符串\n",
    "parts_a8 = a8.split(\"，\")\n",
    "parts_a6 = a6.split(\"，\")\n",
    "\n",
    "# 获取新的句子\n",
    "new_sentence4 = \",\".join([parts_a8[i] for i in range(1)] + [parts_a6[i] for i in range(1,len(parts_a6))])\n",
    "\n",
    "# 打印新的句子\n",
    "print(new_sentence4)"
   ]
  },
  {
   "cell_type": "code",
   "execution_count": 16,
   "id": "a738ec92",
   "metadata": {},
   "outputs": [
    {
     "name": "stdout",
     "output_type": "stream",
     "text": [
      "[(4, 3), (1, 2)]\n"
     ]
    }
   ],
   "source": [
    "# 定义1-4的数字列表\n",
    "numbers = [1, 2, 3, 4]\n",
    "\n",
    "# 打乱数字的顺序\n",
    "random.shuffle(numbers)\n",
    "\n",
    "# 将数字两两配对\n",
    "pairs = [(numbers[i], numbers[i+1]) for i in range(0, len(numbers), 2)]\n",
    "\n",
    "# 打印配对结果\n",
    "print(pairs)"
   ]
  },
  {
   "cell_type": "code",
   "execution_count": 15,
   "id": "d13df3c0",
   "metadata": {},
   "outputs": [
    {
     "name": "stdout",
     "output_type": "stream",
     "text": [
      "2 3\n"
     ]
    }
   ],
   "source": [
    "# 生成随机整数\n",
    "random_integer1 = random.randint(1,3)  # 生成1到100之间的随机整数\n",
    "random_integer2 = random.randint(1,3)\n",
    "\n",
    "print(random_integer1,random_integer2)"
   ]
  },
  {
   "cell_type": "code",
   "execution_count": 17,
   "id": "b31053db",
   "metadata": {},
   "outputs": [
    {
     "name": "stdout",
     "output_type": "stream",
     "text": [
      "沿着海岸线,美女跳起优美的舞蹈,互相呼应,渲染出一幅浪漫画面。\n",
      "美女在大海旁,跳跃起舞,夕阳的光芒照亮她的身影,共同编织出一幅浪漫画面。\n"
     ]
    }
   ],
   "source": [
    "\n",
    "# 使用逗号分割字符串\n",
    "parts_a4 = new_sentence4.split(\",\")\n",
    "parts_a3 = new_sentence3.split(\",\")\n",
    "\n",
    "# 获取新的句子\n",
    "new_1 = \",\".join([parts_a4[i] for i in range(2)] + [parts_a3[i] for i in range(2, len(parts_a3))])\n",
    "\n",
    "# 打印新的句子\n",
    "print(new_1)\n",
    "\n",
    "\n",
    "# 使用逗号分割字符串\n",
    "parts_a1 = new_sentence1.split(\",\")\n",
    "parts_a2 = new_sentence2.split(\",\")\n",
    "\n",
    "# 获取新的句子\n",
    "new_2 = \",\".join([parts_a1[i] for i in range(3)] + [parts_a2[i] for i in range(3, len(parts_a2))])\n",
    "\n",
    "# 打印新的句子\n",
    "print(new_2)"
   ]
  },
  {
   "cell_type": "code",
   "execution_count": 20,
   "id": "682aa8de",
   "metadata": {},
   "outputs": [
    {
     "name": "stdout",
     "output_type": "stream",
     "text": [
      "2\n"
     ]
    }
   ],
   "source": [
    "# 生成随机整数\n",
    "random_integer1 = random.randint(1,5)  # 生成1到100之间的随机整数\n",
    "\n",
    "print(random_integer1)"
   ]
  },
  {
   "cell_type": "code",
   "execution_count": 22,
   "id": "b9c7e877",
   "metadata": {},
   "outputs": [
    {
     "name": "stdout",
     "output_type": "stream",
     "text": [
      "沿着海岸线,美女跳起优美的舞蹈,夕阳的光芒照亮她的身影,共同编织出一幅浪漫画面。\n"
     ]
    }
   ],
   "source": [
    "# 使用逗号分割字符串\n",
    "parts_a1 = new_1.split(\",\")\n",
    "parts_a2 = new_2.split(\",\")\n",
    "\n",
    "# 获取新的句子\n",
    "new = \",\".join([parts_a1[i] for i in range(2)] + [parts_a2[i] for i in range(2, len(parts_a2))])\n",
    "\n",
    "# 打印新的句子\n",
    "print(new)"
   ]
  },
  {
   "cell_type": "code",
   "execution_count": null,
   "id": "99644cb3",
   "metadata": {},
   "outputs": [],
   "source": []
  }
 ],
 "metadata": {
  "kernelspec": {
   "display_name": "Python 3 (ipykernel)",
   "language": "python",
   "name": "python3"
  },
  "language_info": {
   "codemirror_mode": {
    "name": "ipython",
    "version": 3
   },
   "file_extension": ".py",
   "mimetype": "text/x-python",
   "name": "python",
   "nbconvert_exporter": "python",
   "pygments_lexer": "ipython3",
   "version": "3.9.12"
  }
 },
 "nbformat": 4,
 "nbformat_minor": 5
}
