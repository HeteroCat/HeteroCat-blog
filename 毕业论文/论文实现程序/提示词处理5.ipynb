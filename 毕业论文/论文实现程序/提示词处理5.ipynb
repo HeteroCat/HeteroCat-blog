{
 "cells": [
  {
   "cell_type": "code",
   "execution_count": 1,
   "id": "44a7b8b2",
   "metadata": {},
   "outputs": [],
   "source": [
    "a1=\"一个女孩穿着白色裙子，细节逼真，皮肤纹理自然，复杂的细节描绘得非常详细，超逼真的闪亮皮肤和头发，目光直视观众，粉红色嘴唇，全身照在城市街头。\"\n",
    "\n",
    "a2=\"一位女孩身着白色裙子，细节栩栩如生，皮肤纹理自然细腻，细致复杂的描绘，极为详细，展现出超逼真的闪亮皮肤和头发，目光直视观众，粉红色嘴唇，全身照在城市街头。\"\n",
    "\n",
    "a3=\"一个女孩穿着白色裙子，细致逼真的细节展现自然的皮肤纹理，复杂的描绘十分详尽，呈现超逼真的闪亮皮肤和头发，目光注视观众，粉红嘴唇，身着全身照，站在城市街头。\"\n",
    "\n",
    "a4=\"一名女孩穿着白色裙子，呈现出细致逼真的细节，自然的皮肤纹理细腻入微，复杂描绘非常详细，展现极具逼真度的闪亮皮肤和头发，凝视着观众，粉红色嘴唇，全身照拍摄于城市街头。\"\n",
    "\n",
    "a5=\"一位女孩身着白色裙子，细节入微，皮肤纹理栩栩如生，复杂细节描绘高度详尽，呈现出极为逼真的闪亮皮肤和头发，凝视观众，粉红色嘴唇，全身照拍摄于城市街头。\"\n",
    "\n",
    "a6=\"一个女孩穿着白色裙子，细节逼真，皮肤纹理自然生动，详细描绘复杂丰富，超逼真的闪亮皮肤和头发，眼神锐利地注视着观众，粉红嘴唇，全身照在城市街头。\"\n",
    "\n",
    "a7=\"一名女孩着白色裙子，细节栩栩如生，皮肤纹理自然细腻，细致复杂的描绘非常详实，展现超逼真的闪亮皮肤和头发，凝视着观众，粉红的嘴唇，全身照片拍摄于城市街头。\"\n",
    "\n",
    "a8=\"一个女孩身穿白色裙子，细节逼真，皮肤纹理自然细腻，复杂的细节描绘非常详细，超逼真的闪亮皮肤和头发，直视观众，粉红唇色，全身照片，拍摄于城市街头。\""
   ]
  },
  {
   "cell_type": "code",
   "execution_count": 2,
   "id": "6814a51c",
   "metadata": {},
   "outputs": [
    {
     "name": "stdout",
     "output_type": "stream",
     "text": [
      "[(4, 2), (3, 8), (5, 7), (1, 6)]\n"
     ]
    }
   ],
   "source": [
    "import pandas\n",
    "import random\n",
    "\n",
    "# 定义1-8的数字列表\n",
    "numbers = [1, 2, 3, 4, 5, 6, 7, 8]\n",
    "\n",
    "# 打乱数字的顺序\n",
    "random.shuffle(numbers)\n",
    "\n",
    "# 将数字两两配对\n",
    "pairs = [(numbers[i], numbers[i+1]) for i in range(0, len(numbers), 2)]\n",
    "\n",
    "# 打印配对结果\n",
    "print(pairs)"
   ]
  },
  {
   "cell_type": "code",
   "execution_count": 10,
   "id": "7ceaff0c",
   "metadata": {},
   "outputs": [
    {
     "name": "stdout",
     "output_type": "stream",
     "text": [
      "4\n"
     ]
    }
   ],
   "source": [
    "# 生成随机整数\n",
    "random_integer = random.randint(1, 7)  # 生成1到100之间的随机整数\n",
    "print(random_integer)"
   ]
  },
  {
   "cell_type": "code",
   "execution_count": 11,
   "id": "7a6e16f6",
   "metadata": {},
   "outputs": [
    {
     "name": "stdout",
     "output_type": "stream",
     "text": [
      "一名女孩穿着白色裙子,呈现出细致逼真的细节,自然的皮肤纹理细腻入微,复杂描绘非常详细,展现极具逼真度的闪亮皮肤和头发,凝视着观众,粉红色嘴唇,粉红色嘴唇,全身照在城市街头。\n",
      "一个女孩穿着白色裙子,细致逼真的细节展现自然的皮肤纹理,皮肤纹理自然细腻,复杂的细节描绘非常详细,超逼真的闪亮皮肤和头发,直视观众,粉红唇色,全身照片,拍摄于城市街头。\n",
      "一位女孩身着白色裙子,细节入微,皮肤纹理栩栩如生,复杂细节描绘高度详尽,呈现出极为逼真的闪亮皮肤和头发,凝视观众,粉红的嘴唇,全身照片拍摄于城市街头。\n",
      "一个女孩穿着白色裙子,细节逼真,皮肤纹理自然,复杂的细节描绘得非常详细,超逼真的闪亮皮肤和头发,眼神锐利地注视着观众,粉红嘴唇,全身照在城市街头。\n"
     ]
    }
   ],
   "source": [
    "\n",
    "# 使用逗号分割字符串\n",
    "parts_a4 = a4.split(\"，\")\n",
    "parts_a2 = a2.split(\"，\")\n",
    "\n",
    "# 获取新的句子\n",
    "new_sentence1 = \",\".join([parts_a4[i] for i in range(7)] + [parts_a2[i] for i in range(7, len(parts_a2))])\n",
    "\n",
    "# 打印新的句子\n",
    "print(new_sentence1)\n",
    "\n",
    "# 使用逗号分割字符串\n",
    "parts_a3 = a3.split(\"，\")\n",
    "parts_a8 = a8.split(\"，\")\n",
    "\n",
    "# 获取新的句子\n",
    "new_sentence2 = \",\".join([parts_a3[i] for i in range(2)] + [parts_a8[i] for i in range(2,len(parts_a8))])\n",
    "\n",
    "# 打印新的句子\n",
    "print(new_sentence2)\n",
    "\n",
    "# 使用逗号分割字符串\n",
    "parts_a5 = a5.split(\"，\")\n",
    "parts_a7 = a7.split(\"，\")\n",
    "\n",
    "# 获取新的句子\n",
    "new_sentence3 = \",\".join([parts_a5[i] for i in range(6)] + [parts_a7[i] for i in range(6,len(parts_a7))])\n",
    "\n",
    "# 打印新的句子\n",
    "print(new_sentence3)\n",
    "\n",
    "# 使用逗号分割字符串\n",
    "parts_a1 = a1.split(\"，\")\n",
    "parts_a6 = a6.split(\"，\")\n",
    "\n",
    "# 获取新的句子\n",
    "new_sentence4 = \",\".join([parts_a1[i] for i in range(4)] + [parts_a6[i] for i in range(4,len(parts_a6))])\n",
    "\n",
    "# 打印新的句子\n",
    "print(new_sentence4)"
   ]
  },
  {
   "cell_type": "code",
   "execution_count": 12,
   "id": "2abe25b6",
   "metadata": {},
   "outputs": [
    {
     "name": "stdout",
     "output_type": "stream",
     "text": [
      "[(4, 1), (2, 3)]\n"
     ]
    }
   ],
   "source": [
    "# 定义1-4的数字列表\n",
    "numbers = [1, 2, 3, 4]\n",
    "\n",
    "# 打乱数字的顺序\n",
    "random.shuffle(numbers)\n",
    "\n",
    "# 将数字两两配对\n",
    "pairs = [(numbers[i], numbers[i+1]) for i in range(0, len(numbers), 2)]\n",
    "\n",
    "# 打印配对结果\n",
    "print(pairs)"
   ]
  },
  {
   "cell_type": "code",
   "execution_count": 15,
   "id": "c453c087",
   "metadata": {},
   "outputs": [
    {
     "name": "stdout",
     "output_type": "stream",
     "text": [
      "7\n"
     ]
    }
   ],
   "source": [
    "# 生成随机整数\n",
    "random_integer = random.randint(1, 7)  # 生成1到100之间的随机整数\n",
    "print(random_integer)"
   ]
  },
  {
   "cell_type": "code",
   "execution_count": 16,
   "id": "abb99fb4",
   "metadata": {},
   "outputs": [
    {
     "name": "stdout",
     "output_type": "stream",
     "text": [
      "一个女孩穿着白色裙子,细节逼真,皮肤纹理自然,复杂的细节描绘得非常详细,展现极具逼真度的闪亮皮肤和头发,凝视着观众,粉红色嘴唇,粉红色嘴唇,全身照在城市街头。\n",
      "一个女孩穿着白色裙子,细致逼真的细节展现自然的皮肤纹理,皮肤纹理自然细腻,复杂的细节描绘非常详细,超逼真的闪亮皮肤和头发,直视观众,粉红唇色,全身照片拍摄于城市街头。\n"
     ]
    }
   ],
   "source": [
    "\n",
    "# 使用逗号分割字符串\n",
    "parts_a4 = new_sentence4.split(\",\")\n",
    "parts_a1 = new_sentence1.split(\",\")\n",
    "\n",
    "# 获取新的句子\n",
    "new_1 = \",\".join([parts_a4[i] for i in range(4)] + [parts_a1[i] for i in range(4, len(parts_a1))])\n",
    "\n",
    "# 打印新的句子\n",
    "print(new_1)\n",
    "\n",
    "\n",
    "# 使用逗号分割字符串\n",
    "parts_a2 = new_sentence2.split(\",\")\n",
    "parts_a3 = new_sentence3.split(\",\")\n",
    "\n",
    "# 获取新的句子\n",
    "new_2 = \",\".join([parts_a2[i] for i in range(7)] + [parts_a3[i] for i in range(7, len(parts_a3))])\n",
    "\n",
    "# 打印新的句子\n",
    "print(new_2)"
   ]
  },
  {
   "cell_type": "code",
   "execution_count": 17,
   "id": "208fdd77",
   "metadata": {},
   "outputs": [
    {
     "name": "stdout",
     "output_type": "stream",
     "text": [
      "5\n"
     ]
    }
   ],
   "source": [
    "# 生成随机整数\n",
    "random_integer = random.randint(1,7)  # 生成1到100之间的随机整数\n",
    "print(random_integer)"
   ]
  },
  {
   "cell_type": "code",
   "execution_count": 18,
   "id": "bf84ddc1",
   "metadata": {},
   "outputs": [
    {
     "name": "stdout",
     "output_type": "stream",
     "text": [
      "一个女孩穿着白色裙子,细节逼真,皮肤纹理自然细腻,复杂的细节描绘非常详细,超逼真的闪亮皮肤和头发,直视观众,粉红唇色,全身照片拍摄于城市街头。\n"
     ]
    }
   ],
   "source": [
    "# 使用逗号分割字符串\n",
    "parts_a1 = new_1.split(\",\")\n",
    "parts_a2 = new_2.split(\",\")\n",
    "\n",
    "# 获取新的句子\n",
    "new = \",\".join([parts_a1[i] for i in range(2)] + [parts_a2[i] for i in range(2, len(parts_a2))])\n",
    "\n",
    "# 打印新的句子\n",
    "print(new)"
   ]
  },
  {
   "cell_type": "code",
   "execution_count": null,
   "id": "aca16ee3",
   "metadata": {},
   "outputs": [],
   "source": []
  }
 ],
 "metadata": {
  "kernelspec": {
   "display_name": "Python 3 (ipykernel)",
   "language": "python",
   "name": "python3"
  },
  "language_info": {
   "codemirror_mode": {
    "name": "ipython",
    "version": 3
   },
   "file_extension": ".py",
   "mimetype": "text/x-python",
   "name": "python",
   "nbconvert_exporter": "python",
   "pygments_lexer": "ipython3",
   "version": "3.9.12"
  }
 },
 "nbformat": 4,
 "nbformat_minor": 5
}
