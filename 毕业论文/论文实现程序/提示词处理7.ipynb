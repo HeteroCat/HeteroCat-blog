{
 "cells": [
  {
   "cell_type": "code",
   "execution_count": 1,
   "id": "32a8b4c6",
   "metadata": {},
   "outputs": [],
   "source": [
    "a1=\"小时候的爱迪生坐在鸡窝上一动不动，认真地孵蛋，呈现卡通般童趣可爱的场景。\"\n",
    "a2=\"童年时的爱迪生坐在鸡窝上静静孵蛋，全神贯注，卡通风格中透露出的童趣与可爱。\"\n",
    "a3=\"小时候的爱迪生坐在鸡窝上不动，专心孵蛋，展现出卡通般的童趣与可爱。\"\n",
    "a4=\"爱迪生小时候坐在鸡窝上一动不动，认真地孵蛋，展现出卡通风格中的童趣和可爱。\"\n",
    "a5=\"爱迪生小时候坐在鸡窝上静静孵蛋，全神贯注，展现出卡通风格的童趣和可爱。\"\n",
    "a6=\"小时候的爱迪生，静静地坐在鸡窝上孵蛋，童趣可爱的卡通场景展现。\"\n",
    "a7=\"爱迪生小时候坐在鸡窝上不动，认真地孵蛋，卡通风格中的童趣和可爱尽显。\"\n",
    "a8=\"小时候的爱迪生坐在鸡窝上一动不动，专心孵蛋，卡通般的童趣与可爱展现。\""
   ]
  },
  {
   "cell_type": "code",
   "execution_count": 2,
   "id": "79bae49d",
   "metadata": {},
   "outputs": [
    {
     "name": "stdout",
     "output_type": "stream",
     "text": [
      "[(4, 1), (5, 7), (6, 3), (8, 2)]\n"
     ]
    }
   ],
   "source": [
    "import pandas\n",
    "import random\n",
    "\n",
    "# 定义1-8的数字列表\n",
    "numbers = [1, 2, 3, 4, 5, 6, 7, 8]\n",
    "\n",
    "# 打乱数字的顺序\n",
    "random.shuffle(numbers)\n",
    "\n",
    "# 将数字两两配对\n",
    "pairs = [(numbers[i], numbers[i+1]) for i in range(0, len(numbers), 2)]\n",
    "\n",
    "# 打印配对结果\n",
    "print(pairs)"
   ]
  },
  {
   "cell_type": "code",
   "execution_count": 3,
   "id": "a0ed398e",
   "metadata": {},
   "outputs": [
    {
     "name": "stdout",
     "output_type": "stream",
     "text": [
      "1 2 1 1\n"
     ]
    }
   ],
   "source": [
    "# 生成随机整数\n",
    "random_integer1 = random.randint(1,2)  # 生成1到100之间的随机整数\n",
    "random_integer2 = random.randint(1,2)\n",
    "random_integer3 = random.randint(1,2)\n",
    "random_integer4 = random.randint(1,2)\n",
    "print(random_integer1,random_integer2,random_integer3,random_integer4)"
   ]
  },
  {
   "cell_type": "code",
   "execution_count": 4,
   "id": "e7220aa1",
   "metadata": {},
   "outputs": [
    {
     "name": "stdout",
     "output_type": "stream",
     "text": [
      "爱迪生小时候坐在鸡窝上一动不动,认真地孵蛋,呈现卡通般童趣可爱的场景。\n",
      "爱迪生小时候坐在鸡窝上静静孵蛋,全神贯注,卡通风格中的童趣和可爱尽显。\n",
      "小时候的爱迪生,专心孵蛋,展现出卡通般的童趣与可爱。\n",
      "小时候的爱迪生坐在鸡窝上一动不动,全神贯注,卡通风格中透露出的童趣与可爱。\n"
     ]
    }
   ],
   "source": [
    "\n",
    "# 使用逗号分割字符串\n",
    "parts_a4 = a4.split(\"，\")\n",
    "parts_a1 = a1.split(\"，\")\n",
    "\n",
    "# 获取新的句子\n",
    "new_sentence1 = \",\".join([parts_a4[i] for i in range(1)] + [parts_a1[i] for i in range(1, len(parts_a1))])\n",
    "\n",
    "# 打印新的句子\n",
    "print(new_sentence1)\n",
    "\n",
    "# 使用逗号分割字符串\n",
    "parts_a5 = a5.split(\"，\")\n",
    "parts_a7 = a7.split(\"，\")\n",
    "\n",
    "# 获取新的句子\n",
    "new_sentence2 = \",\".join([parts_a5[i] for i in range(2)] + [parts_a7[i] for i in range(2,len(parts_a7))])\n",
    "\n",
    "# 打印新的句子\n",
    "print(new_sentence2)\n",
    "\n",
    "# 使用逗号分割字符串\n",
    "parts_a6 = a6.split(\"，\")\n",
    "parts_a3 = a3.split(\"，\")\n",
    "\n",
    "# 获取新的句子\n",
    "new_sentence3 = \",\".join([parts_a6[i] for i in range(1)] + [parts_a3[i] for i in range(1,len(parts_a3))])\n",
    "\n",
    "# 打印新的句子\n",
    "print(new_sentence3)\n",
    "\n",
    "# 使用逗号分割字符串\n",
    "parts_a8 = a8.split(\"，\")\n",
    "parts_a2 = a2.split(\"，\")\n",
    "\n",
    "# 获取新的句子\n",
    "new_sentence4 = \",\".join([parts_a8[i] for i in range(1)] + [parts_a2[i] for i in range(1,len(parts_a2))])\n",
    "\n",
    "# 打印新的句子\n",
    "print(new_sentence4)"
   ]
  },
  {
   "cell_type": "code",
   "execution_count": 5,
   "id": "909d0ed2",
   "metadata": {},
   "outputs": [
    {
     "name": "stdout",
     "output_type": "stream",
     "text": [
      "[(3, 2), (1, 4)]\n"
     ]
    }
   ],
   "source": [
    "# 定义1-4的数字列表\n",
    "numbers = [1, 2, 3, 4]\n",
    "\n",
    "# 打乱数字的顺序\n",
    "random.shuffle(numbers)\n",
    "\n",
    "# 将数字两两配对\n",
    "pairs = [(numbers[i], numbers[i+1]) for i in range(0, len(numbers), 2)]\n",
    "\n",
    "# 打印配对结果\n",
    "print(pairs)"
   ]
  },
  {
   "cell_type": "code",
   "execution_count": 6,
   "id": "a969a68c",
   "metadata": {},
   "outputs": [
    {
     "name": "stdout",
     "output_type": "stream",
     "text": [
      "2 2\n"
     ]
    }
   ],
   "source": [
    "# 生成随机整数\n",
    "random_integer1 = random.randint(1,2)  # 生成1到100之间的随机整数\n",
    "random_integer2 = random.randint(1,2)\n",
    "\n",
    "print(random_integer1,random_integer2)"
   ]
  },
  {
   "cell_type": "code",
   "execution_count": 7,
   "id": "109e3b5b",
   "metadata": {},
   "outputs": [
    {
     "name": "stdout",
     "output_type": "stream",
     "text": [
      "小时候的爱迪生,专心孵蛋,卡通风格中的童趣和可爱尽显。\n",
      "爱迪生小时候坐在鸡窝上一动不动,认真地孵蛋,卡通风格中透露出的童趣与可爱。\n"
     ]
    }
   ],
   "source": [
    "\n",
    "# 使用逗号分割字符串\n",
    "parts_a3 = new_sentence3.split(\",\")\n",
    "parts_a2 = new_sentence2.split(\",\")\n",
    "\n",
    "# 获取新的句子\n",
    "new_1 = \",\".join([parts_a3[i] for i in range(2)] + [parts_a2[i] for i in range(2, len(parts_a2))])\n",
    "\n",
    "# 打印新的句子\n",
    "print(new_1)\n",
    "\n",
    "\n",
    "# 使用逗号分割字符串\n",
    "parts_a1 = new_sentence1.split(\",\")\n",
    "parts_a4 = new_sentence4.split(\",\")\n",
    "\n",
    "# 获取新的句子\n",
    "new_2 = \",\".join([parts_a1[i] for i in range(2)] + [parts_a4[i] for i in range(2, len(parts_a4))])\n",
    "\n",
    "# 打印新的句子\n",
    "print(new_2)"
   ]
  },
  {
   "cell_type": "code",
   "execution_count": 9,
   "id": "7a383fe7",
   "metadata": {},
   "outputs": [
    {
     "name": "stdout",
     "output_type": "stream",
     "text": [
      "1\n"
     ]
    }
   ],
   "source": [
    "# 生成随机整数\n",
    "random_integer1 = random.randint(1,2)  # 生成1到100之间的随机整数\n",
    "\n",
    "print(random_integer1)"
   ]
  },
  {
   "cell_type": "code",
   "execution_count": 10,
   "id": "6764acbf",
   "metadata": {},
   "outputs": [
    {
     "name": "stdout",
     "output_type": "stream",
     "text": [
      "爱迪生小时候坐在鸡窝上一动不动,专心孵蛋,卡通风格中的童趣和可爱尽显。\n"
     ]
    }
   ],
   "source": [
    "# 使用逗号分割字符串\n",
    "parts_a1 = new_1.split(\",\")\n",
    "parts_a2 = new_2.split(\",\")\n",
    "\n",
    "# 获取新的句子\n",
    "new = \",\".join([parts_a2[i] for i in range(1)] + [parts_a1[i] for i in range(1, len(parts_a1))])\n",
    "\n",
    "# 打印新的句子\n",
    "print(new)"
   ]
  },
  {
   "cell_type": "code",
   "execution_count": null,
   "id": "29402e9a",
   "metadata": {},
   "outputs": [],
   "source": []
  }
 ],
 "metadata": {
  "kernelspec": {
   "display_name": "Python 3 (ipykernel)",
   "language": "python",
   "name": "python3"
  },
  "language_info": {
   "codemirror_mode": {
    "name": "ipython",
    "version": 3
   },
   "file_extension": ".py",
   "mimetype": "text/x-python",
   "name": "python",
   "nbconvert_exporter": "python",
   "pygments_lexer": "ipython3",
   "version": "3.9.12"
  }
 },
 "nbformat": 4,
 "nbformat_minor": 5
}
