{
 "cells": [
  {
   "cell_type": "code",
   "execution_count": 1,
   "id": "f1385c75",
   "metadata": {},
   "outputs": [],
   "source": [
    "a1=\"在大唐盛世之际，迎来了上元节，亭台楼阁悬挂着密密麻麻的灯笼，灯火辉煌，烟花绚烂，古街人海如潮，繁华绝美。\"\n",
    "a2=\"大唐盛世之时，迎来了上元节，亭台楼阁挂满了灯笼，灯火辉煌，烟花绚丽夺目，古街上人头攒动，繁华靓丽。\"\n",
    "a3=\"大唐盛世，上元节将至，亭台楼阁上挂满了灯笼，灯火辉煌，烟花绚烂夺目，古街上人头攒动，繁华绚丽。\"\n",
    "a4=\"在大唐盛世时光里，上元节临近，亭台楼阁悬挂灯笼，灯火通亮，烟花缤纷如画，古街人流如潮，繁华绚烂。\"\n",
    "a5=\"大唐盛世之际，上元节来临，亭台楼阁挂满灯笼，灯火通明，烟花璀璨耀眼，古街人潮如织，繁华绚丽迷人。\"\n",
    "a6=\"大唐盛世，上元节来临，亭台楼阁悬挂着灯笼，灯火辉煌，烟花璀璨夺目，古街人流如织，繁华绚丽。\"\n",
    "a7=\"在大唐盛世之际，上元节即将到来，亭台楼阁挂满了灯笼，灯火通明，烟花绚烂美丽，古街人潮如潮，繁华灿烂。\"\n",
    "a8=\"大唐盛世之际，上元节来临，亭台楼阁上挂满了灯笼，灯火通明，烟花绚丽夺目，古街上人流如潮，繁华靓丽。\""
   ]
  },
  {
   "cell_type": "code",
   "execution_count": 6,
   "id": "42ff4ad6",
   "metadata": {},
   "outputs": [],
   "source": [
    "import pandas"
   ]
  },
  {
   "cell_type": "code",
   "execution_count": 3,
   "id": "e66935c0",
   "metadata": {},
   "outputs": [
    {
     "name": "stdout",
     "output_type": "stream",
     "text": [
      "[(4, 6), (8, 3), (5, 2), (1, 7)]\n"
     ]
    }
   ],
   "source": [
    "import random\n",
    "\n",
    "# 定义1-8的数字列表\n",
    "numbers = [1, 2, 3, 4, 5, 6, 7, 8]\n",
    "\n",
    "# 打乱数字的顺序\n",
    "random.shuffle(numbers)\n",
    "\n",
    "# 将数字两两配对\n",
    "pairs = [(numbers[i], numbers[i+1]) for i in range(0, len(numbers), 2)]\n",
    "\n",
    "# 打印配对结果\n",
    "print(pairs)\n"
   ]
  },
  {
   "cell_type": "code",
   "execution_count": 4,
   "id": "e68d5d53",
   "metadata": {},
   "outputs": [
    {
     "name": "stdout",
     "output_type": "stream",
     "text": [
      "2\n"
     ]
    }
   ],
   "source": [
    "# 生成随机整数\n",
    "random_integer = random.randint(1, 6)  # 生成1到6之间的随机整数\n",
    "print(random_integer)"
   ]
  },
  {
   "cell_type": "code",
   "execution_count": 20,
   "id": "8eba9b48",
   "metadata": {},
   "outputs": [
    {
     "name": "stdout",
     "output_type": "stream",
     "text": [
      "在大唐盛世时光里,上元节临近,亭台楼阁悬挂着灯笼,灯火辉煌,烟花璀璨夺目,古街人流如织,繁华绚丽。\n"
     ]
    }
   ],
   "source": [
    "\n",
    "# 使用逗号分割字符串\n",
    "parts_a4 = a4.split(\"，\")\n",
    "parts_a6 = a6.split(\"，\")\n",
    "\n",
    "# 获取新的句子\n",
    "new_sentence1 = \",\".join([parts_a4[i] for i in range(2)] + [parts_a6[i] for i in range(2, len(parts_a6))])\n",
    "\n",
    "# 打印新的句子\n",
    "print(new_sentence1)\n",
    "\n"
   ]
  },
  {
   "cell_type": "code",
   "execution_count": 19,
   "id": "d79b021d",
   "metadata": {},
   "outputs": [
    {
     "name": "stdout",
     "output_type": "stream",
     "text": [
      "3\n"
     ]
    }
   ],
   "source": [
    "# 生成随机整数\n",
    "random_integer = random.randint(1, 6)  # 生成1到100之间的随机整数\n",
    "print(random_integer)"
   ]
  },
  {
   "cell_type": "code",
   "execution_count": 23,
   "id": "d2ba1dfe",
   "metadata": {},
   "outputs": [
    {
     "name": "stdout",
     "output_type": "stream",
     "text": [
      "大唐盛世之际,上元节来临,亭台楼阁上挂满了灯笼,灯火辉煌,烟花绚烂夺目,古街上人头攒动,繁华绚丽。\n"
     ]
    }
   ],
   "source": [
    "\n",
    "# 使用逗号分割字符串\n",
    "parts_a8 = a8.split(\"，\")\n",
    "parts_a3 = a3.split(\"，\")\n",
    "\n",
    "# 获取新的句子\n",
    "new_sentence2 = \",\".join([parts_a8[i] for i in range(3)] + [parts_a3[i] for i in range(3, len(parts_a3))])\n",
    "\n",
    "# 打印新的句子\n",
    "print(new_sentence2)\n",
    "\n"
   ]
  },
  {
   "cell_type": "code",
   "execution_count": 22,
   "id": "a11b94f3",
   "metadata": {},
   "outputs": [
    {
     "name": "stdout",
     "output_type": "stream",
     "text": [
      "6\n"
     ]
    }
   ],
   "source": [
    "# 生成随机整数\n",
    "random_integer = random.randint(1, 6)  # 生成1到100之间的随机整数\n",
    "print(random_integer)"
   ]
  },
  {
   "cell_type": "code",
   "execution_count": 24,
   "id": "1cd6b9c3",
   "metadata": {},
   "outputs": [
    {
     "name": "stdout",
     "output_type": "stream",
     "text": [
      "大唐盛世之际,上元节来临,亭台楼阁挂满灯笼,灯火通明,烟花璀璨耀眼,古街人潮如织,繁华靓丽。\n"
     ]
    }
   ],
   "source": [
    "\n",
    "# 使用逗号分割字符串\n",
    "parts_a5 = a5.split(\"，\")\n",
    "parts_a2 = a2.split(\"，\")\n",
    "\n",
    "# 获取新的句子\n",
    "new_sentence3 = \",\".join([parts_a5[i] for i in range(6)] + [parts_a2[i] for i in range(6, len(parts_a2))])\n",
    "\n",
    "# 打印新的句子\n",
    "print(new_sentence3)\n"
   ]
  },
  {
   "cell_type": "code",
   "execution_count": 25,
   "id": "85eeda39",
   "metadata": {},
   "outputs": [
    {
     "name": "stdout",
     "output_type": "stream",
     "text": [
      "3\n"
     ]
    }
   ],
   "source": [
    "# 生成随机整数\n",
    "random_integer = random.randint(1, 6)  # 生成1到100之间的随机整数\n",
    "print(random_integer)"
   ]
  },
  {
   "cell_type": "code",
   "execution_count": 26,
   "id": "75cf4efd",
   "metadata": {},
   "outputs": [
    {
     "name": "stdout",
     "output_type": "stream",
     "text": [
      "在大唐盛世之际,迎来了上元节,亭台楼阁悬挂着密密麻麻的灯笼,灯火通明,烟花绚烂美丽,古街人潮如潮,繁华灿烂。\n"
     ]
    }
   ],
   "source": [
    "# 使用逗号分割字符串\n",
    "parts_a1 = a1.split(\"，\")\n",
    "parts_a7 = a7.split(\"，\")\n",
    "\n",
    "# 获取新的句子\n",
    "new_sentence4 = \",\".join([parts_a1[i] for i in range(3)] + [parts_a7[i] for i in range(3, len(parts_a7))])\n",
    "\n",
    "# 打印新的句子\n",
    "print(new_sentence4)"
   ]
  },
  {
   "cell_type": "code",
   "execution_count": 27,
   "id": "8910b802",
   "metadata": {},
   "outputs": [
    {
     "name": "stdout",
     "output_type": "stream",
     "text": [
      "[(4, 1), (3, 2)]\n"
     ]
    }
   ],
   "source": [
    "import random\n",
    "\n",
    "# 定义1-8的数字列表\n",
    "numbers = [1, 2, 3, 4]\n",
    "\n",
    "# 打乱数字的顺序\n",
    "random.shuffle(numbers)\n",
    "\n",
    "# 将数字两两配对\n",
    "pairs = [(numbers[i], numbers[i+1]) for i in range(0, len(numbers), 2)]\n",
    "\n",
    "# 打印配对结果\n",
    "print(pairs)"
   ]
  },
  {
   "cell_type": "code",
   "execution_count": 28,
   "id": "2a773b80",
   "metadata": {},
   "outputs": [
    {
     "name": "stdout",
     "output_type": "stream",
     "text": [
      "2\n"
     ]
    }
   ],
   "source": [
    "# 生成随机整数\n",
    "random_integer = random.randint(1, 6)  # 生成1到100之间的随机整数\n",
    "print(random_integer)"
   ]
  },
  {
   "cell_type": "code",
   "execution_count": 43,
   "id": "e5c82278",
   "metadata": {},
   "outputs": [
    {
     "name": "stdout",
     "output_type": "stream",
     "text": [
      "在大唐盛世之际,迎来了上元节,亭台楼阁悬挂着灯笼,灯火辉煌,烟花璀璨夺目,古街人流如织,繁华绚丽。\n"
     ]
    }
   ],
   "source": [
    "new_sentence4 = \"在大唐盛世之际,迎来了上元节,亭台楼阁悬挂着密密麻麻的灯笼,灯火通明,烟花绚烂美丽,古街人潮如潮,繁华灿烂。\"\n",
    "new_sentence1 = \"在大唐盛世时光里,上元节临近,亭台楼阁悬挂着灯笼,灯火辉煌,烟花璀璨夺目,古街人流如织,繁华绚丽。\"\n",
    "\n",
    "# 使用逗号分割字符串\n",
    "parts_a4 = new_sentence4.split(\",\")\n",
    "parts_a1 = new_sentence1.split(\",\")\n",
    "\n",
    "# 获取新的句子\n",
    "new_1 = \",\".join([parts_a4[i] for i in range(2)] + [parts_a1[i] for i in range(2, len(parts_a1))])\n",
    "\n",
    "# 打印新的句子\n",
    "print(new_1)"
   ]
  },
  {
   "cell_type": "code",
   "execution_count": 44,
   "id": "ed14bd31",
   "metadata": {},
   "outputs": [
    {
     "name": "stdout",
     "output_type": "stream",
     "text": [
      "1\n"
     ]
    }
   ],
   "source": [
    "# 生成随机整数\n",
    "random_integer = random.randint(1, 6)  # 生成1到100之间的随机整数\n",
    "print(random_integer)"
   ]
  },
  {
   "cell_type": "code",
   "execution_count": 45,
   "id": "f44e8375",
   "metadata": {},
   "outputs": [
    {
     "name": "stdout",
     "output_type": "stream",
     "text": [
      "大唐盛世之际,上元节来临,亭台楼阁上挂满了灯笼,灯火辉煌,烟花绚烂夺目,古街上人头攒动,繁华绚丽。\n"
     ]
    }
   ],
   "source": [
    "new_sentence3 = \"大唐盛世之际,上元节来临,亭台楼阁挂满灯笼,灯火通明,烟花璀璨耀眼,古街人潮如织,繁华靓丽。\"\n",
    "new_sentence2 = \"大唐盛世之际,上元节来临,亭台楼阁上挂满了灯笼,灯火辉煌,烟花绚烂夺目,古街上人头攒动,繁华绚丽。\"\n",
    "\n",
    "# 使用逗号分割字符串\n",
    "parts_a3 = new_sentence3.split(\",\")\n",
    "parts_a2 = new_sentence2.split(\",\")\n",
    "\n",
    "# 获取新的句子\n",
    "new_2 = \",\".join([parts_a3[i] for i in range(1)] + [parts_a2[i] for i in range(1, len(parts_a1))])\n",
    "\n",
    "# 打印新的句子\n",
    "print(new_2)"
   ]
  },
  {
   "cell_type": "code",
   "execution_count": 49,
   "id": "4da8b7de",
   "metadata": {},
   "outputs": [
    {
     "name": "stdout",
     "output_type": "stream",
     "text": [
      "4\n"
     ]
    }
   ],
   "source": [
    "# 生成随机整数\n",
    "random_integer = random.randint(1, 6)  # 生成1到100之间的随机整数\n",
    "print(random_integer)"
   ]
  },
  {
   "cell_type": "code",
   "execution_count": 50,
   "id": "6636873d",
   "metadata": {},
   "outputs": [
    {
     "name": "stdout",
     "output_type": "stream",
     "text": [
      "在大唐盛世之际,迎来了上元节,亭台楼阁悬挂着灯笼,灯火辉煌,烟花绚烂夺目,古街上人头攒动,繁华绚丽。\n"
     ]
    }
   ],
   "source": [
    "# 使用逗号分割字符串\n",
    "parts_a1 = new_1.split(\",\")\n",
    "parts_a2 = new_2.split(\",\")\n",
    "\n",
    "# 获取新的句子\n",
    "new = \",\".join([parts_a1[i] for i in range(4)] + [parts_a2[i] for i in range(4, len(parts_a2))])\n",
    "\n",
    "# 打印新的句子\n",
    "print(new)"
   ]
  },
  {
   "cell_type": "code",
   "execution_count": null,
   "id": "482da149",
   "metadata": {},
   "outputs": [],
   "source": []
  }
 ],
 "metadata": {
  "kernelspec": {
   "display_name": "Python 3 (ipykernel)",
   "language": "python",
   "name": "python3"
  },
  "language_info": {
   "codemirror_mode": {
    "name": "ipython",
    "version": 3
   },
   "file_extension": ".py",
   "mimetype": "text/x-python",
   "name": "python",
   "nbconvert_exporter": "python",
   "pygments_lexer": "ipython3",
   "version": "3.9.12"
  }
 },
 "nbformat": 4,
 "nbformat_minor": 5
}
