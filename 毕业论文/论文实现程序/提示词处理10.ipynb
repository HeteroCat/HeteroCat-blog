{
 "cells": [
  {
   "cell_type": "code",
   "execution_count": 5,
   "id": "103e8e19",
   "metadata": {},
   "outputs": [],
   "source": [
    "a1=\"在漆黑的夜晚，星空璀璨，一位年轻的亚洲男子背影孤独,戴着耳机听歌，如电影般的画面，仿佛是著名导演的作品，营造出一种深沉的孤独氛围。\"\n",
    "a2=\"夜幕降临，繁星点点，孤独的年轻亚洲男人背影孤立在夜色中，戴着耳机倾听音乐，仿佛是电影般的场景，散发出著名导演的风格，营造出一种深情的孤独氛围。\"\n",
    "a3=\"在黑暗的夜晚，满天繁星，一位孤独的年轻亚洲男子背影独自行走，戴着耳机聆听音乐，如同电影中的画面，展现出著名导演的作品风格，弥漫着深情的孤独氛围。\"\n",
    "a4=\"黑夜深沉，星空璀璨，孤独的年轻亚洲男人背影独自走在路上，耳边传来音乐声，电影般的场景中,透露出著名导演的风格，营造出深沉的孤独氛围。\"\n",
    "a5=\"夜幕降临，璀璨星空，孤独的年轻亚洲男子背影孤单行走，戴着耳机享受音乐，宛如电影情节，展现出著名导演的特有风格，营造出深情的孤独氛围。\"\n",
    "a6=\"在漆黑的夜晚，星光璀璨，年轻的亚洲男子孤独背影独自漫步，佩戴耳机倾听音乐，电影风格般的画面中呈现出著名导演的作品特质，营造出浓厚的孤独氛围。\"\n",
    "a7=\"夜幕降临，漫天星空，孤独的年轻亚洲男人背影独自漫步，耳朵里传来音乐，有着电影般的风格，仿佛是著名导演的作品，散发出深刻的孤独氛围。\"\n",
    "a8=\"漆黑的夜晚，繁星闪烁，年轻的亚洲男子背影独自徜徉，戴着耳机聆听音乐，展现出电影般的场景，似著名导演的作品，营造出深情的孤独氛围。\""
   ]
  },
  {
   "cell_type": "code",
   "execution_count": 4,
   "id": "754ef722",
   "metadata": {},
   "outputs": [
    {
     "name": "stdout",
     "output_type": "stream",
     "text": [
      "[(5, 8), (6, 2), (1, 7), (4, 3)]\n"
     ]
    }
   ],
   "source": [
    "import pandas\n",
    "import random\n",
    "\n",
    "# 定义1-8的数字列表\n",
    "numbers = [1, 2, 3, 4, 5, 6, 7, 8]\n",
    "\n",
    "# 打乱数字的顺序\n",
    "random.shuffle(numbers)\n",
    "\n",
    "# 将数字两两配对\n",
    "pairs = [(numbers[i], numbers[i+1]) for i in range(0, len(numbers), 2)]\n",
    "\n",
    "# 打印配对结果\n",
    "print(pairs)"
   ]
  },
  {
   "cell_type": "code",
   "execution_count": 6,
   "id": "5d2c53f3",
   "metadata": {},
   "outputs": [
    {
     "name": "stdout",
     "output_type": "stream",
     "text": [
      "3 3 2 4\n"
     ]
    }
   ],
   "source": [
    "# 生成随机整数\n",
    "random_integer1 = random.randint(1,6)  # 生成1到6之间的随机整数\n",
    "random_integer2 = random.randint(1,6)\n",
    "random_integer3 = random.randint(1,6)\n",
    "random_integer4 = random.randint(1,6)\n",
    "print(random_integer1,random_integer2,random_integer3,random_integer4)"
   ]
  },
  {
   "cell_type": "code",
   "execution_count": 7,
   "id": "b8c05a49",
   "metadata": {},
   "outputs": [
    {
     "name": "stdout",
     "output_type": "stream",
     "text": [
      "夜幕降临,璀璨星空,孤独的年轻亚洲男子背影孤单行走,戴着耳机聆听音乐,展现出电影般的场景,似著名导演的作品,营造出深情的孤独氛围。\n",
      "在漆黑的夜晚,星光璀璨,年轻的亚洲男子孤独背影独自漫步,戴着耳机倾听音乐,仿佛是电影般的场景,散发出著名导演的风格,营造出一种深情的孤独氛围。\n",
      "在漆黑的夜晚,星空璀璨,孤独的年轻亚洲男人背影独自漫步,耳朵里传来音乐,有着电影般的风格,仿佛是著名导演的作品,散发出深刻的孤独氛围。\n",
      "黑夜深沉,星空璀璨,孤独的年轻亚洲男人背影独自走在路上,耳边传来音乐声,如同电影中的画面,展现出著名导演的作品风格,弥漫着深情的孤独氛围。\n"
     ]
    }
   ],
   "source": [
    "\n",
    "# 使用逗号分割字符串\n",
    "parts_a5 = a5.split(\"，\")\n",
    "parts_a8 = a8.split(\"，\")\n",
    "\n",
    "# 获取新的句子\n",
    "new_sentence1 = \",\".join([parts_a5[i] for i in range(3)] + [parts_a8[i] for i in range(3, len(parts_a8))])\n",
    "\n",
    "# 打印新的句子\n",
    "print(new_sentence1)\n",
    "\n",
    "# 使用逗号分割字符串\n",
    "parts_a6 = a6.split(\"，\")\n",
    "parts_a2 = a2.split(\"，\")\n",
    "\n",
    "# 获取新的句子\n",
    "new_sentence2 = \",\".join([parts_a6[i] for i in range(3)] + [parts_a2[i] for i in range(3,len(parts_a2))])\n",
    "\n",
    "# 打印新的句子\n",
    "print(new_sentence2)\n",
    "\n",
    "# 使用逗号分割字符串\n",
    "parts_a1 = a1.split(\"，\")\n",
    "parts_a7 = a7.split(\"，\")\n",
    "\n",
    "# 获取新的句子\n",
    "new_sentence3 = \",\".join([parts_a1[i] for i in range(2)] + [parts_a7[i] for i in range(2,len(parts_a7))])\n",
    "\n",
    "# 打印新的句子\n",
    "print(new_sentence3)\n",
    "\n",
    "# 使用逗号分割字符串\n",
    "parts_a4 = a4.split(\"，\")\n",
    "parts_a3 = a3.split(\"，\")\n",
    "\n",
    "# 获取新的句子\n",
    "new_sentence4 = \",\".join([parts_a4[i] for i in range(4)] + [parts_a3[i] for i in range(4,len(parts_a3))])\n",
    "\n",
    "# 打印新的句子\n",
    "print(new_sentence4)"
   ]
  },
  {
   "cell_type": "code",
   "execution_count": 8,
   "id": "31c15e7b",
   "metadata": {},
   "outputs": [
    {
     "name": "stdout",
     "output_type": "stream",
     "text": [
      "[(2, 4), (3, 1)]\n"
     ]
    }
   ],
   "source": [
    "# 定义1-4的数字列表\n",
    "numbers = [1, 2, 3, 4]\n",
    "\n",
    "# 打乱数字的顺序\n",
    "random.shuffle(numbers)\n",
    "\n",
    "# 将数字两两配对\n",
    "pairs = [(numbers[i], numbers[i+1]) for i in range(0, len(numbers), 2)]\n",
    "\n",
    "# 打印配对结果\n",
    "print(pairs)"
   ]
  },
  {
   "cell_type": "code",
   "execution_count": 9,
   "id": "96db7527",
   "metadata": {},
   "outputs": [
    {
     "name": "stdout",
     "output_type": "stream",
     "text": [
      "3 6\n"
     ]
    }
   ],
   "source": [
    "# 生成随机整数\n",
    "random_integer1 = random.randint(1,6)  # 生成1到100之间的随机整数\n",
    "random_integer2 = random.randint(1,6)\n",
    "\n",
    "print(random_integer1,random_integer2)"
   ]
  },
  {
   "cell_type": "code",
   "execution_count": 10,
   "id": "9c7a5411",
   "metadata": {},
   "outputs": [
    {
     "name": "stdout",
     "output_type": "stream",
     "text": [
      "在漆黑的夜晚,星光璀璨,年轻的亚洲男子孤独背影独自漫步,耳边传来音乐声,如同电影中的画面,展现出著名导演的作品风格,弥漫着深情的孤独氛围。\n",
      "在漆黑的夜晚,星空璀璨,孤独的年轻亚洲男人背影独自漫步,耳朵里传来音乐,有着电影般的风格,仿佛是著名导演的作品,营造出深情的孤独氛围。\n"
     ]
    }
   ],
   "source": [
    "\n",
    "# 使用逗号分割字符串\n",
    "parts_a2 = new_sentence2.split(\",\")\n",
    "parts_a4 = new_sentence4.split(\",\")\n",
    "\n",
    "# 获取新的句子\n",
    "new_1 = \",\".join([parts_a2[i] for i in range(3)] + [parts_a4[i] for i in range(3, len(parts_a4))])\n",
    "\n",
    "# 打印新的句子\n",
    "print(new_1)\n",
    "\n",
    "\n",
    "# 使用逗号分割字符串\n",
    "parts_a3 = new_sentence3.split(\",\")\n",
    "parts_a1 = new_sentence1.split(\",\")\n",
    "\n",
    "# 获取新的句子\n",
    "new_2 = \",\".join([parts_a3[i] for i in range(6)] + [parts_a1[i] for i in range(6, len(parts_a1))])\n",
    "\n",
    "# 打印新的句子\n",
    "print(new_2)"
   ]
  },
  {
   "cell_type": "code",
   "execution_count": 11,
   "id": "64edcbd0",
   "metadata": {},
   "outputs": [
    {
     "name": "stdout",
     "output_type": "stream",
     "text": [
      "3\n"
     ]
    }
   ],
   "source": [
    "# 生成随机整数\n",
    "random_integer1 = random.randint(1,6)  # 生成1到100之间的随机整数\n",
    "\n",
    "print(random_integer1)"
   ]
  },
  {
   "cell_type": "code",
   "execution_count": 12,
   "id": "8e8fe890",
   "metadata": {},
   "outputs": [
    {
     "name": "stdout",
     "output_type": "stream",
     "text": [
      "在漆黑的夜晚,星光璀璨,孤独的年轻亚洲男人背影独自漫步,耳朵里传来音乐,有着电影般的风格,仿佛是著名导演的作品,营造出深情的孤独氛围。\n"
     ]
    }
   ],
   "source": [
    "# 使用逗号分割字符串\n",
    "parts_a1 = new_1.split(\",\")\n",
    "parts_a2 = new_2.split(\",\")\n",
    "\n",
    "# 获取新的句子\n",
    "new = \",\".join([parts_a1[i] for i in range(2)] + [parts_a2[i] for i in range(2, len(parts_a2))])\n",
    "\n",
    "# 打印新的句子\n",
    "print(new)"
   ]
  },
  {
   "cell_type": "code",
   "execution_count": null,
   "id": "1e186cdf",
   "metadata": {},
   "outputs": [],
   "source": []
  }
 ],
 "metadata": {
  "kernelspec": {
   "display_name": "Python 3 (ipykernel)",
   "language": "python",
   "name": "python3"
  },
  "language_info": {
   "codemirror_mode": {
    "name": "ipython",
    "version": 3
   },
   "file_extension": ".py",
   "mimetype": "text/x-python",
   "name": "python",
   "nbconvert_exporter": "python",
   "pygments_lexer": "ipython3",
   "version": "3.9.12"
  }
 },
 "nbformat": 4,
 "nbformat_minor": 5
}
