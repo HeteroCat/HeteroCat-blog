{
 "cells": [
  {
   "cell_type": "code",
   "execution_count": 1,
   "id": "d3188905",
   "metadata": {},
   "outputs": [],
   "source": [
    "a1=\"Gojo Satoru，一位年轻的高个子，头发雪白，眼睛闪烁着蓝色光芒，穿着黑色夹克，口中念念有咒语，身处被毁银河系全景中，底部照明泛着蓝色荧光，周围冷石如碎镜一般，展现出卡拉瓦格斯克风格。\" \n",
    "\n",
    "a2=\"Gojo Satoru，一个年轻高个子，白发飘逸，眼睛璀璨蓝光，身着黑夹克，口中念念有咒语，身临被毁银河系全景，底部照明泛蓝荧光，周围冷石碎镜般散落，彷如卡拉瓦格斯克风格画作一般。\"\n",
    "\n",
    "a3=\"Gojo Satoru，身材高挑年轻，头发雪白，眼睛蓝光闪耀，穿着黑夹克，口中念念有咒语，所在之地为被毁银河系全景，底部照明蓝色荧光闪现，四周冷石碎镜遗像，仿佛卡拉瓦格斯克风格画作。\"\n",
    "\n",
    "a4=\"Gojo Satoru，年轻高个，头发雪白，蓝眼璀璨，黑夹克身着，唇边念念有咒语，身处被毁银河系全景，蓝色底部照明映衬，周围冷石破碎如镜，呼应卡拉瓦格斯克风格。\"\n",
    "\n",
    "a5=\"Gojo Satoru，年轻高大，头发如雪飞扬，蓝眸闪烁光芒，穿黑夹克，口中念念有咒语，身临被毁银河系全景，底部照明蓝荧光映衬，周遭冷石破碎似镜，犹如卡拉瓦格斯克风格画作一般。\"\n",
    "\n",
    "a6=\"Gojo Satoru，年轻高个，白发飘逸，蓝眼闪耀，黑夹克穿戴，口中念念有咒语，身处被毁银河系全景之中，底部照明蓝荧光映衬，周遭冷石碎镜般散乱，展现卡拉瓦格斯克风格。\"\n",
    "\n",
    "a7=\"Gojo Satoru，年轻高挑，头发如雪般瀑布飞扬，蓝眼明亮璀璨，身披黑夹克，口中念念有咒语，身临被毁银河系全景，底部照明蓝色荧光流溢，周遭冷石碎镜遗像，犹如卡拉瓦格斯克风格画作。\"\n",
    "\n",
    "a8=\"Gojo Satoru，青年高个，头发雪白如瀑布飘逸，蓝眼闪烁璀璨，穿着黑夹克，口中念念有咒语，身处被毁银河系全景，底部照明泛着蓝荧光，四周冷石破碎如镜，仿若卡拉瓦格斯克风格。\""
   ]
  },
  {
   "cell_type": "code",
   "execution_count": 3,
   "id": "ab59ca82",
   "metadata": {},
   "outputs": [
    {
     "name": "stdout",
     "output_type": "stream",
     "text": [
      "[(7, 5), (2, 8), (1, 6), (3, 4)]\n"
     ]
    }
   ],
   "source": [
    "import pandas\n",
    "import random\n",
    "\n",
    "# 定义1-8的数字列表\n",
    "numbers = [1, 2, 3, 4, 5, 6, 7, 8]\n",
    "\n",
    "# 打乱数字的顺序\n",
    "random.shuffle(numbers)\n",
    "\n",
    "# 将数字两两配对\n",
    "pairs = [(numbers[i], numbers[i+1]) for i in range(0, len(numbers), 2)]\n",
    "\n",
    "# 打印配对结果\n",
    "print(pairs)"
   ]
  },
  {
   "cell_type": "code",
   "execution_count": 10,
   "id": "472f6750",
   "metadata": {},
   "outputs": [
    {
     "name": "stdout",
     "output_type": "stream",
     "text": [
      "2\n"
     ]
    }
   ],
   "source": [
    "# 生成随机整数\n",
    "random_integer = random.randint(1, 9)  # 生成1到100之间的随机整数\n",
    "print(random_integer)"
   ]
  },
  {
   "cell_type": "code",
   "execution_count": 11,
   "id": "9aff4907",
   "metadata": {},
   "outputs": [
    {
     "name": "stdout",
     "output_type": "stream",
     "text": [
      "Gojo Satoru,年轻高挑,头发如雪般瀑布飞扬,蓝眼明亮璀璨,身披黑夹克,口中念念有咒语,身临被毁银河系全景,底部照明蓝色荧光流溢,周遭冷石碎镜遗像,犹如卡拉瓦格斯克风格画作一般。\n",
      "Gojo Satoru,一个年轻高个子,白发飘逸,眼睛璀璨蓝光,身着黑夹克,口中念念有咒语,身处被毁银河系全景,底部照明泛着蓝荧光,四周冷石破碎如镜,仿若卡拉瓦格斯克风格。\n",
      "Gojo Satoru,一位年轻的高个子,头发雪白,眼睛闪烁着蓝色光芒,穿着黑色夹克,口中念念有咒语,身处被毁银河系全景中,底部照明泛着蓝色荧光,周遭冷石碎镜般散乱,展现卡拉瓦格斯克风格。\n",
      "Gojo Satoru,身材高挑年轻,头发雪白,蓝眼璀璨,黑夹克身着,唇边念念有咒语,身处被毁银河系全景,蓝色底部照明映衬,周围冷石破碎如镜,呼应卡拉瓦格斯克风格。\n"
     ]
    }
   ],
   "source": [
    "\n",
    "# 使用逗号分割字符串\n",
    "parts_a7 = a7.split(\"，\")\n",
    "parts_a5 = a5.split(\"，\")\n",
    "\n",
    "# 获取新的句子\n",
    "new_sentence1 = \",\".join([parts_a7[i] for i in range(9)] + [parts_a5[i] for i in range(9, len(parts_a5))])\n",
    "\n",
    "# 打印新的句子\n",
    "print(new_sentence1)\n",
    "\n",
    "# 使用逗号分割字符串\n",
    "parts_a2 = a2.split(\"，\")\n",
    "parts_a8 = a8.split(\"，\")\n",
    "\n",
    "# 获取新的句子\n",
    "new_sentence2 = \",\".join([parts_a2[i] for i in range(5)] + [parts_a8[i] for i in range(5,len(parts_a8))])\n",
    "\n",
    "# 打印新的句子\n",
    "print(new_sentence2)\n",
    "\n",
    "# 使用逗号分割字符串\n",
    "parts_a1 = a1.split(\"，\")\n",
    "parts_a6 = a6.split(\"，\")\n",
    "\n",
    "# 获取新的句子\n",
    "new_sentence3 = \",\".join([parts_a1[i] for i in range(8)] + [parts_a6[i] for i in range(8,len(parts_a6))])\n",
    "\n",
    "# 打印新的句子\n",
    "print(new_sentence3)\n",
    "\n",
    "# 使用逗号分割字符串\n",
    "parts_a3 = a3.split(\"，\")\n",
    "parts_a4 = a4.split(\"，\")\n",
    "\n",
    "# 获取新的句子\n",
    "new_sentence4 = \",\".join([parts_a3[i] for i in range(2)] + [parts_a4[i] for i in range(2,len(parts_a4))])\n",
    "\n",
    "# 打印新的句子\n",
    "print(new_sentence4)"
   ]
  },
  {
   "cell_type": "code",
   "execution_count": 12,
   "id": "c3340566",
   "metadata": {},
   "outputs": [
    {
     "name": "stdout",
     "output_type": "stream",
     "text": [
      "[(1, 2), (3, 4)]\n"
     ]
    }
   ],
   "source": [
    "# 定义1-4的数字列表\n",
    "numbers = [1, 2, 3, 4]\n",
    "\n",
    "# 打乱数字的顺序\n",
    "random.shuffle(numbers)\n",
    "\n",
    "# 将数字两两配对\n",
    "pairs = [(numbers[i], numbers[i+1]) for i in range(0, len(numbers), 2)]\n",
    "\n",
    "# 打印配对结果\n",
    "print(pairs)"
   ]
  },
  {
   "cell_type": "code",
   "execution_count": 16,
   "id": "1f4e1641",
   "metadata": {},
   "outputs": [
    {
     "name": "stdout",
     "output_type": "stream",
     "text": [
      "8\n"
     ]
    }
   ],
   "source": [
    "# 生成随机整数\n",
    "random_integer = random.randint(1, 9)  # 生成1到100之间的随机整数\n",
    "print(random_integer)"
   ]
  },
  {
   "cell_type": "code",
   "execution_count": 17,
   "id": "a9a56214",
   "metadata": {},
   "outputs": [
    {
     "name": "stdout",
     "output_type": "stream",
     "text": [
      "Gojo Satoru,年轻高挑,头发如雪般瀑布飞扬,蓝眼明亮璀璨,身着黑夹克,口中念念有咒语,身处被毁银河系全景,底部照明泛着蓝荧光,四周冷石破碎如镜,仿若卡拉瓦格斯克风格。\n",
      "Gojo Satoru,一位年轻的高个子,头发雪白,眼睛闪烁着蓝色光芒,穿着黑色夹克,口中念念有咒语,身处被毁银河系全景中,底部照明泛着蓝色荧光,周围冷石破碎如镜,呼应卡拉瓦格斯克风格。\n"
     ]
    }
   ],
   "source": [
    "\n",
    "# 使用逗号分割字符串\n",
    "parts_a1 = new_sentence1.split(\",\")\n",
    "parts_a2 = new_sentence2.split(\",\")\n",
    "\n",
    "# 获取新的句子\n",
    "new_1 = \",\".join([parts_a1[i] for i in range(4)] + [parts_a2[i] for i in range(4, len(parts_a2))])\n",
    "\n",
    "# 打印新的句子\n",
    "print(new_1)\n",
    "\n",
    "\n",
    "# 使用逗号分割字符串\n",
    "parts_a3 = new_sentence3.split(\",\")\n",
    "parts_a4 = new_sentence4.split(\",\")\n",
    "\n",
    "# 获取新的句子\n",
    "new_2 = \",\".join([parts_a3[i] for i in range(8)] + [parts_a4[i] for i in range(8, len(parts_a4))])\n",
    "\n",
    "# 打印新的句子\n",
    "print(new_2)"
   ]
  },
  {
   "cell_type": "code",
   "execution_count": 18,
   "id": "659decb0",
   "metadata": {},
   "outputs": [
    {
     "name": "stdout",
     "output_type": "stream",
     "text": [
      "2\n"
     ]
    }
   ],
   "source": [
    "# 生成随机整数\n",
    "random_integer = random.randint(1,9)  # 生成1到100之间的随机整数\n",
    "print(random_integer)"
   ]
  },
  {
   "cell_type": "code",
   "execution_count": 19,
   "id": "ff7d94a4",
   "metadata": {},
   "outputs": [
    {
     "name": "stdout",
     "output_type": "stream",
     "text": [
      "Gojo Satoru,年轻高挑,头发雪白,眼睛闪烁着蓝色光芒,穿着黑色夹克,口中念念有咒语,身处被毁银河系全景中,底部照明泛着蓝色荧光,周围冷石破碎如镜,呼应卡拉瓦格斯克风格。\n"
     ]
    }
   ],
   "source": [
    "# 使用逗号分割字符串\n",
    "parts_a1 = new_1.split(\",\")\n",
    "parts_a2 = new_2.split(\",\")\n",
    "\n",
    "# 获取新的句子\n",
    "new = \",\".join([parts_a1[i] for i in range(2)] + [parts_a2[i] for i in range(2, len(parts_a2))])\n",
    "\n",
    "# 打印新的句子\n",
    "print(new)"
   ]
  },
  {
   "cell_type": "code",
   "execution_count": null,
   "id": "854a78cb",
   "metadata": {},
   "outputs": [],
   "source": []
  }
 ],
 "metadata": {
  "kernelspec": {
   "display_name": "Python 3 (ipykernel)",
   "language": "python",
   "name": "python3"
  },
  "language_info": {
   "codemirror_mode": {
    "name": "ipython",
    "version": 3
   },
   "file_extension": ".py",
   "mimetype": "text/x-python",
   "name": "python",
   "nbconvert_exporter": "python",
   "pygments_lexer": "ipython3",
   "version": "3.9.12"
  }
 },
 "nbformat": 4,
 "nbformat_minor": 5
}
