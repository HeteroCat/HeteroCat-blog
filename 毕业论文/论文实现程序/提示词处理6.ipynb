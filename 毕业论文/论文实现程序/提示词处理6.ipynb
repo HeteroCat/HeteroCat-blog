{
 "cells": [
  {
   "cell_type": "code",
   "execution_count": 1,
   "id": "bb8116ca",
   "metadata": {},
   "outputs": [],
   "source": [
    "a1=\"一个穿着毛茸茸兔子外套的机器人，站在电脑前工作，面向摄像头，可爱又有趣，充满高科技感。\"\n",
    "a2=\"身穿毛茸茸兔子外套的机器人,正忙碌在电脑前工作，镜头前表情萌萌的，展现出有趣和高科技的特质。\"\n",
    "a3=\"机器人身穿可爱的兔子外套，在电脑前工作，面对镜头时表情可爱又有趣，透着高科技的魅力。\"\n",
    "a4=\"一台机器人穿着毛茸茸的兔子外套，在电脑前忙碌工作，面对着摄像头，可爱萌萌的样子展现出有趣和高科技的特性。\"\n",
    "a5=\"机器人身着兔子外套，在电脑前努力工作，面对着摄像头时表情可爱有趣，散发着高科技的魅力。\"\n",
    "a6=\"一个穿着毛茸茸兔子外套的机器人，专心在电脑前工作，面对镜头时展现出可爱的表情，具有有趣和高科技的特质。\"\n",
    "a7=\"身着兔子外套的机器人,正在电脑前忙碌，可爱的表情呈现在镜头前，展现出有趣和高科技的魅力。\"\n",
    "a8=\"机器人着兔子外套，工作在电脑前，面对着摄像头时表情可爱萌萌，展现出有趣和高科技的一面。\""
   ]
  },
  {
   "cell_type": "code",
   "execution_count": 2,
   "id": "8324673c",
   "metadata": {},
   "outputs": [
    {
     "name": "stdout",
     "output_type": "stream",
     "text": [
      "[(7, 2), (6, 5), (8, 4), (3, 1)]\n"
     ]
    }
   ],
   "source": [
    "import pandas\n",
    "import random\n",
    "\n",
    "# 定义1-8的数字列表\n",
    "numbers = [1, 2, 3, 4, 5, 6, 7, 8]\n",
    "\n",
    "# 打乱数字的顺序\n",
    "random.shuffle(numbers)\n",
    "\n",
    "# 将数字两两配对\n",
    "pairs = [(numbers[i], numbers[i+1]) for i in range(0, len(numbers), 2)]\n",
    "\n",
    "# 打印配对结果\n",
    "print(pairs)"
   ]
  },
  {
   "cell_type": "code",
   "execution_count": 7,
   "id": "c233290e",
   "metadata": {},
   "outputs": [
    {
     "name": "stdout",
     "output_type": "stream",
     "text": [
      "1\n"
     ]
    }
   ],
   "source": [
    "# 生成随机整数\n",
    "random_integer = random.randint(1,3)  # 生成1到100之间的随机整数\n",
    "print(random_integer)"
   ]
  },
  {
   "cell_type": "code",
   "execution_count": 8,
   "id": "d3c48ffc",
   "metadata": {},
   "outputs": [
    {
     "name": "stdout",
     "output_type": "stream",
     "text": [
      "身着兔子外套的机器人正在电脑前忙碌,可爱的表情呈现在镜头前,展现出有趣和高科技的特质。\n",
      "一个穿着毛茸茸兔子外套的机器人,专心在电脑前工作,面对着摄像头时表情可爱有趣,散发着高科技的魅力。\n",
      "机器人着兔子外套,在电脑前忙碌工作,面对着摄像头,可爱萌萌的样子展现出有趣和高科技的特性。\n",
      "机器人身穿可爱的兔子外套,站在电脑前工作,面向摄像头,可爱又有趣,充满高科技感。\n"
     ]
    }
   ],
   "source": [
    "\n",
    "# 使用逗号分割字符串\n",
    "parts_a7 = a7.split(\"，\")\n",
    "parts_a2 = a2.split(\"，\")\n",
    "\n",
    "# 获取新的句子\n",
    "new_sentence1 = \",\".join([parts_a7[i] for i in range(2)] + [parts_a2[i] for i in range(2, len(parts_a2))])\n",
    "\n",
    "# 打印新的句子\n",
    "print(new_sentence1)\n",
    "\n",
    "# 使用逗号分割字符串\n",
    "parts_a6 = a6.split(\"，\")\n",
    "parts_a5 = a5.split(\"，\")\n",
    "\n",
    "# 获取新的句子\n",
    "new_sentence2 = \",\".join([parts_a6[i] for i in range(2)] + [parts_a5[i] for i in range(2,len(parts_a5))])\n",
    "\n",
    "# 打印新的句子\n",
    "print(new_sentence2)\n",
    "\n",
    "# 使用逗号分割字符串\n",
    "parts_a8 = a8.split(\"，\")\n",
    "parts_a4 = a4.split(\"，\")\n",
    "\n",
    "# 获取新的句子\n",
    "new_sentence3 = \",\".join([parts_a8[i] for i in range(1)] + [parts_a4[i] for i in range(1,len(parts_a4))])\n",
    "\n",
    "# 打印新的句子\n",
    "print(new_sentence3)\n",
    "\n",
    "# 使用逗号分割字符串\n",
    "parts_a3 = a3.split(\"，\")\n",
    "parts_a1 = a1.split(\"，\")\n",
    "\n",
    "# 获取新的句子\n",
    "new_sentence4 = \",\".join([parts_a3[i] for i in range(1)] + [parts_a1[i] for i in range(1,len(parts_a1))])\n",
    "\n",
    "# 打印新的句子\n",
    "print(new_sentence4)"
   ]
  },
  {
   "cell_type": "code",
   "execution_count": 9,
   "id": "04798701",
   "metadata": {},
   "outputs": [
    {
     "name": "stdout",
     "output_type": "stream",
     "text": [
      "[(3, 1), (4, 2)]\n"
     ]
    }
   ],
   "source": [
    "# 定义1-4的数字列表\n",
    "numbers = [1, 2, 3, 4]\n",
    "\n",
    "# 打乱数字的顺序\n",
    "random.shuffle(numbers)\n",
    "\n",
    "# 将数字两两配对\n",
    "pairs = [(numbers[i], numbers[i+1]) for i in range(0, len(numbers), 2)]\n",
    "\n",
    "# 打印配对结果\n",
    "print(pairs)"
   ]
  },
  {
   "cell_type": "code",
   "execution_count": 11,
   "id": "4ee0ea15",
   "metadata": {},
   "outputs": [
    {
     "name": "stdout",
     "output_type": "stream",
     "text": [
      "3\n"
     ]
    }
   ],
   "source": [
    "# 生成随机整数\n",
    "random_integer = random.randint(1,3)  # 生成1到100之间的随机整数\n",
    "print(random_integer)"
   ]
  },
  {
   "cell_type": "code",
   "execution_count": 12,
   "id": "310cc780",
   "metadata": {},
   "outputs": [
    {
     "name": "stdout",
     "output_type": "stream",
     "text": [
      "机器人着兔子外套,可爱的表情呈现在镜头前,展现出有趣和高科技的特质。\n",
      "机器人身穿可爱的兔子外套,站在电脑前工作,面向摄像头,散发着高科技的魅力。\n"
     ]
    }
   ],
   "source": [
    "\n",
    "# 使用逗号分割字符串\n",
    "parts_a3 = new_sentence3.split(\",\")\n",
    "parts_a1 = new_sentence1.split(\",\")\n",
    "\n",
    "# 获取新的句子\n",
    "new_1 = \",\".join([parts_a3[i] for i in range(1)] + [parts_a1[i] for i in range(1, len(parts_a1))])\n",
    "\n",
    "# 打印新的句子\n",
    "print(new_1)\n",
    "\n",
    "\n",
    "# 使用逗号分割字符串\n",
    "parts_a4 = new_sentence4.split(\",\")\n",
    "parts_a2 = new_sentence2.split(\",\")\n",
    "\n",
    "# 获取新的句子\n",
    "new_2 = \",\".join([parts_a4[i] for i in range(3)] + [parts_a2[i] for i in range(3, len(parts_a3))])\n",
    "\n",
    "# 打印新的句子\n",
    "print(new_2)"
   ]
  },
  {
   "cell_type": "code",
   "execution_count": 13,
   "id": "4635ee3d",
   "metadata": {},
   "outputs": [
    {
     "name": "stdout",
     "output_type": "stream",
     "text": [
      "1\n"
     ]
    }
   ],
   "source": [
    "# 生成随机整数\n",
    "random_integer = random.randint(1,3)  # 生成1到100之间的随机整数\n",
    "print(random_integer)"
   ]
  },
  {
   "cell_type": "code",
   "execution_count": 16,
   "id": "fad0e912",
   "metadata": {},
   "outputs": [
    {
     "name": "stdout",
     "output_type": "stream",
     "text": [
      "机器人着兔子外套,站在电脑前工作,面向摄像头,散发着高科技的魅力。\n"
     ]
    }
   ],
   "source": [
    "# 使用逗号分割字符串\n",
    "parts_a1 = new_1.split(\",\")\n",
    "parts_a2 = new_2.split(\",\")\n",
    "\n",
    "# 获取新的句子\n",
    "new = \",\".join([parts_a1[i] for i in range(1)] + [parts_a2[i] for i in range(1, len(parts_a2))])\n",
    "\n",
    "# 打印新的句子\n",
    "print(new)"
   ]
  },
  {
   "cell_type": "code",
   "execution_count": null,
   "id": "f782ece2",
   "metadata": {},
   "outputs": [],
   "source": []
  }
 ],
 "metadata": {
  "kernelspec": {
   "display_name": "Python 3 (ipykernel)",
   "language": "python",
   "name": "python3"
  },
  "language_info": {
   "codemirror_mode": {
    "name": "ipython",
    "version": 3
   },
   "file_extension": ".py",
   "mimetype": "text/x-python",
   "name": "python",
   "nbconvert_exporter": "python",
   "pygments_lexer": "ipython3",
   "version": "3.9.12"
  }
 },
 "nbformat": 4,
 "nbformat_minor": 5
}
