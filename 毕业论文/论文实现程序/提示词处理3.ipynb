{
 "cells": [
  {
   "cell_type": "code",
   "execution_count": 1,
   "id": "e1622afd",
   "metadata": {},
   "outputs": [],
   "source": [
    "a1=\"中国传统平面插画，仿古年画样式，一只中国龙形象被拟人化为卡通人物，笑容开心，龙凤呈祥。\"\n",
    "a2=\"在中国传统平面插画风格中，年画呈现，一只中国龙形象被赋予拟人化的卡通特征，笑容满面，展现龙凤和谐之象。\"\n",
    "a3=\"中国传统平面插画艺术，年画风格，一位身着中国龙造型的卡通人物，笑容灿烂，寓意龙凤呈祥。\"\n",
    "a4=\"年画风格，中国传统平面插画呈现，一个中国龙拟人化成卡通形象，笑容灿烂，寓意着龙凤呈祥之意象。\"\n",
    "a5=\"中国传统平面插画，仿古年画样式，一只中国龙形象被拟人化为卡通人物，笑容慈祥，龙凤呈祥。\"\n",
    "a6=\"在中国传统平面插画中，年画元素体现，一只中国龙形象拟人化为卡通造型，愉悦的笑容，寓意龙凤和谐。\"\n",
    "a7=\"中国传统平面插画，融合年画风格，一个中国龙形象被赋予拟人化的卡通形象，笑容满面，象征龙凤聚首。\"\n",
    "a8=\"年画主题，中国传统平面插画中，一位中国龙形象化身卡通角色，笑脸喜悦，寓意龙凤呈祥。\""
   ]
  },
  {
   "cell_type": "code",
   "execution_count": 2,
   "id": "b812ea29",
   "metadata": {},
   "outputs": [],
   "source": [
    "import pandas\n",
    "import random"
   ]
  },
  {
   "cell_type": "code",
   "execution_count": 8,
   "id": "05ff99a5",
   "metadata": {},
   "outputs": [
    {
     "name": "stdout",
     "output_type": "stream",
     "text": [
      "[(8, 4), (2, 7), (5, 1), (3, 6)]\n"
     ]
    }
   ],
   "source": [
    "# 定义1-8的数字列表\n",
    "numbers = [1, 2, 3, 4, 5, 6, 7, 8]\n",
    "\n",
    "# 打乱数字的顺序\n",
    "random.shuffle(numbers)\n",
    "\n",
    "# 将数字两两配对\n",
    "pairs = [(numbers[i], numbers[i+1]) for i in range(0, len(numbers), 2)]\n",
    "\n",
    "# 打印配对结果\n",
    "print(pairs)"
   ]
  },
  {
   "cell_type": "code",
   "execution_count": 15,
   "id": "3fe13152",
   "metadata": {},
   "outputs": [
    {
     "name": "stdout",
     "output_type": "stream",
     "text": [
      "1\n"
     ]
    }
   ],
   "source": [
    "# 生成随机整数\n",
    "random_integer = random.randint(1, 4)  # 生成1到100之间的随机整数\n",
    "print(random_integer)"
   ]
  },
  {
   "cell_type": "code",
   "execution_count": 16,
   "id": "41f90c44",
   "metadata": {},
   "outputs": [
    {
     "name": "stdout",
     "output_type": "stream",
     "text": [
      "年画主题,中国传统平面插画中,一个中国龙拟人化成卡通形象,笑容灿烂,寓意着龙凤呈祥之意象。\n",
      "在中国传统平面插画风格中,年画呈现,一只中国龙形象被赋予拟人化的卡通特征,笑容满面,象征龙凤聚首。\n",
      "中国传统平面插画,仿古年画样式,一只中国龙形象被拟人化为卡通人物,笑容慈祥,龙凤呈祥。\n",
      "中国传统平面插画艺术,年画元素体现,一只中国龙形象拟人化为卡通造型,愉悦的笑容,寓意龙凤和谐。\n"
     ]
    }
   ],
   "source": [
    "\n",
    "# 使用逗号分割字符串\n",
    "parts_a8 = a8.split(\"，\")\n",
    "parts_a4 = a4.split(\"，\")\n",
    "\n",
    "# 获取新的句子\n",
    "new_sentence1 = \",\".join([parts_a8[i] for i in range(2)] + [parts_a4[i] for i in range(2, 5)])\n",
    "\n",
    "# 打印新的句子\n",
    "print(new_sentence1)\n",
    "\n",
    "# 使用逗号分割字符串\n",
    "parts_a2 = a2.split(\"，\")\n",
    "parts_a7 = a7.split(\"，\")\n",
    "\n",
    "# 获取新的句子\n",
    "new_sentence2 = \",\".join([parts_a2[i] for i in range(3)] + [parts_a7[i] for i in range(3, 5)])\n",
    "\n",
    "# 打印新的句子\n",
    "print(new_sentence2)\n",
    "\n",
    "# 使用逗号分割字符串\n",
    "parts_a5 = a5.split(\"，\")\n",
    "parts_a1 = a1.split(\"，\")\n",
    "\n",
    "# 获取新的句子\n",
    "new_sentence3 = \",\".join([parts_a5[i] for i in range(4)] + [parts_a1[i] for i in range(4,5)])\n",
    "\n",
    "# 打印新的句子\n",
    "print(new_sentence3)\n",
    "\n",
    "# 使用逗号分割字符串\n",
    "parts_a3 = a3.split(\"，\")\n",
    "parts_a6 = a6.split(\"，\")\n",
    "\n",
    "# 获取新的句子\n",
    "new_sentence4 = \",\".join([parts_a3[i] for i in range(1)] + [parts_a6[i] for i in range(1,5)])\n",
    "\n",
    "# 打印新的句子\n",
    "print(new_sentence4)"
   ]
  },
  {
   "cell_type": "code",
   "execution_count": 17,
   "id": "b24cc1cc",
   "metadata": {},
   "outputs": [
    {
     "name": "stdout",
     "output_type": "stream",
     "text": [
      "[(2, 3), (1, 4)]\n"
     ]
    }
   ],
   "source": [
    "# 定义1-4的数字列表\n",
    "numbers = [1, 2, 3, 4]\n",
    "\n",
    "# 打乱数字的顺序\n",
    "random.shuffle(numbers)\n",
    "\n",
    "# 将数字两两配对\n",
    "pairs = [(numbers[i], numbers[i+1]) for i in range(0, len(numbers), 2)]\n",
    "\n",
    "# 打印配对结果\n",
    "print(pairs)"
   ]
  },
  {
   "cell_type": "code",
   "execution_count": 23,
   "id": "0048e027",
   "metadata": {},
   "outputs": [
    {
     "name": "stdout",
     "output_type": "stream",
     "text": [
      "2\n"
     ]
    }
   ],
   "source": [
    "# 生成随机整数\n",
    "random_integer = random.randint(1, 4)  # 生成1到100之间的随机整数\n",
    "print(random_integer)"
   ]
  },
  {
   "cell_type": "code",
   "execution_count": 24,
   "id": "8b74c6e6",
   "metadata": {},
   "outputs": [
    {
     "name": "stdout",
     "output_type": "stream",
     "text": [
      "在中国传统平面插画风格中,年画呈现,一只中国龙形象被拟人化为卡通人物,笑容慈祥,龙凤呈祥。\n",
      "年画主题,中国传统平面插画中,一只中国龙形象拟人化为卡通造型,愉悦的笑容,寓意龙凤和谐。\n"
     ]
    }
   ],
   "source": [
    "\n",
    "# 使用逗号分割字符串\n",
    "parts_a2 = new_sentence2.split(\",\")\n",
    "parts_a3 = new_sentence3.split(\",\")\n",
    "\n",
    "# 获取新的句子\n",
    "new_1 = \",\".join([parts_a2[i] for i in range(2)] + [parts_a3[i] for i in range(2, len(parts_a3))])\n",
    "\n",
    "# 打印新的句子\n",
    "print(new_1)\n",
    "\n",
    "\n",
    "# 使用逗号分割字符串\n",
    "parts_a1 = new_sentence1.split(\",\")\n",
    "parts_a4 = new_sentence4.split(\",\")\n",
    "\n",
    "# 获取新的句子\n",
    "new_2 = \",\".join([parts_a1[i] for i in range(2)] + [parts_a4[i] for i in range(2, len(parts_a4))])\n",
    "\n",
    "# 打印新的句子\n",
    "print(new_2)"
   ]
  },
  {
   "cell_type": "code",
   "execution_count": 25,
   "id": "8ba00f43",
   "metadata": {},
   "outputs": [
    {
     "name": "stdout",
     "output_type": "stream",
     "text": [
      "2\n"
     ]
    }
   ],
   "source": [
    "# 生成随机整数\n",
    "random_integer = random.randint(1, 4)  # 生成1到100之间的随机整数\n",
    "print(random_integer)"
   ]
  },
  {
   "cell_type": "code",
   "execution_count": 26,
   "id": "fb61c336",
   "metadata": {},
   "outputs": [
    {
     "name": "stdout",
     "output_type": "stream",
     "text": [
      "在中国传统平面插画风格中,年画呈现,一只中国龙形象拟人化为卡通造型,愉悦的笑容,寓意龙凤和谐。\n"
     ]
    }
   ],
   "source": [
    "# 使用逗号分割字符串\n",
    "parts_a1 = new_1.split(\",\")\n",
    "parts_a2 = new_2.split(\",\")\n",
    "\n",
    "# 获取新的句子\n",
    "new = \",\".join([parts_a1[i] for i in range(2)] + [parts_a2[i] for i in range(2, len(parts_a2))])\n",
    "\n",
    "# 打印新的句子\n",
    "print(new)"
   ]
  },
  {
   "cell_type": "code",
   "execution_count": null,
   "id": "58e9036f",
   "metadata": {},
   "outputs": [],
   "source": []
  }
 ],
 "metadata": {
  "kernelspec": {
   "display_name": "Python 3 (ipykernel)",
   "language": "python",
   "name": "python3"
  },
  "language_info": {
   "codemirror_mode": {
    "name": "ipython",
    "version": 3
   },
   "file_extension": ".py",
   "mimetype": "text/x-python",
   "name": "python",
   "nbconvert_exporter": "python",
   "pygments_lexer": "ipython3",
   "version": "3.9.12"
  }
 },
 "nbformat": 4,
 "nbformat_minor": 5
}
