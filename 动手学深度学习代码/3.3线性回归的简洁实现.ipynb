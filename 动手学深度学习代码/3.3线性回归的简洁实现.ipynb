{
 "cells": [
  {
   "cell_type": "code",
   "execution_count": 1,
   "id": "78861ffa",
   "metadata": {},
   "outputs": [],
   "source": [
    "import numpy as np\n",
    "import torch\n",
    "from torch.utils import data\n",
    "from d2l import torch as d2l\n",
    "\n",
    "true_w = torch.tensor([2, -3.4])\n",
    "true_b = 4.2\n",
    "features, labels = d2l.synthetic_data(true_w, true_b, 1000)"
   ]
  },
  {
   "cell_type": "raw",
   "id": "4087d2af",
   "metadata": {},
   "source": [
    "3.3.2. 读取数据集"
   ]
  },
  {
   "cell_type": "code",
   "execution_count": 2,
   "id": "9d333392",
   "metadata": {},
   "outputs": [],
   "source": [
    "def load_array(data_arrays, batch_size, is_train=True):  #@save\n",
    "    \"\"\"构造一个PyTorch数据迭代器\"\"\"\n",
    "    dataset = data.TensorDataset(*data_arrays)\n",
    "    return data.DataLoader(dataset, batch_size, shuffle=is_train)\n",
    "\n",
    "batch_size = 10\n",
    "data_iter = load_array((features, labels), batch_size)"
   ]
  },
  {
   "cell_type": "code",
   "execution_count": 3,
   "id": "9bea44da",
   "metadata": {},
   "outputs": [
    {
     "data": {
      "text/plain": [
       "[tensor([[ 0.2866,  1.3699],\n",
       "         [ 0.0534, -0.6134],\n",
       "         [ 0.9487,  0.2704],\n",
       "         [ 1.0000,  0.8481],\n",
       "         [-1.7046,  1.0632],\n",
       "         [ 1.2581, -0.0754],\n",
       "         [ 1.1746, -0.1044],\n",
       "         [ 0.7001, -1.4536],\n",
       "         [ 0.2295, -1.4241],\n",
       "         [ 0.3376,  0.4250]]),\n",
       " tensor([[ 0.1235],\n",
       "         [ 6.3944],\n",
       "         [ 5.1646],\n",
       "         [ 3.3268],\n",
       "         [-2.8161],\n",
       "         [ 6.9778],\n",
       "         [ 6.9233],\n",
       "         [10.5449],\n",
       "         [ 9.5003],\n",
       "         [ 3.4152]])]"
      ]
     },
     "execution_count": 3,
     "metadata": {},
     "output_type": "execute_result"
    }
   ],
   "source": [
    "next(iter(data_iter))"
   ]
  },
  {
   "cell_type": "raw",
   "id": "22dc5faa",
   "metadata": {},
   "source": [
    "3.3.3. 定义模型"
   ]
  },
  {
   "cell_type": "raw",
   "id": "e3b6d164",
   "metadata": {},
   "source": [
    "当我们在 3.2节中实现线性回归时， 我们明确定义了模型参数变量，并编写了计算的代码，这样通过基本的线性代数运算得到输出。 但是，如果模型变得更加复杂，且当我们几乎每天都需要实现模型时，自然会想简化这个过程。 这种情况类似于为自己的博客从零开始编写网页。 做一两次是有益的，但如果每个新博客就需要工程师花一个月的时间重新开始编写网页，那并不高效。\n",
    "\n",
    "对于标准深度学习模型，我们可以使用框架的预定义好的层。这使我们只需关注使用哪些层来构造模型，而不必关注层的实现细节。 我们首先定义一个模型变量，它是一个类的实例。类将多个层串联在一起。 当给定输入数据时，实例将数据传入到第一层， 然后将第一层的输出作为第二层的输入，以此类推。 在下面的例子中，我们的模型只包含一个层，因此实际上不需要。 但是由于以后几乎所有的模型都是多层的，在这里使用会让你熟悉\"标准的流水线\"。"
   ]
  },
  {
   "cell_type": "code",
   "execution_count": 4,
   "id": "59db73be",
   "metadata": {},
   "outputs": [],
   "source": [
    "# nn是神经网络的缩写\n",
    "from torch import nn\n",
    "\n",
    "net = nn.Sequential(nn.Linear(2, 1))"
   ]
  },
  {
   "cell_type": "raw",
   "id": "9b9b4014",
   "metadata": {},
   "source": [
    "3.3.4. 初始化模型参数"
   ]
  },
  {
   "cell_type": "code",
   "execution_count": 5,
   "id": "a76084b2",
   "metadata": {},
   "outputs": [
    {
     "data": {
      "text/plain": [
       "tensor([0.])"
      ]
     },
     "execution_count": 5,
     "metadata": {},
     "output_type": "execute_result"
    }
   ],
   "source": [
    "net[0].weight.data.normal_(0, 0.01)\n",
    "net[0].bias.data.fill_(0)"
   ]
  },
  {
   "cell_type": "raw",
   "id": "2c2f515b",
   "metadata": {},
   "source": [
    "3.3.5. 定义损失函数\n",
    "计算均方误差使用的是类，也称为平方范数。 默认情况下，它返回所有样本损失的平均值。MSELoss"
   ]
  },
  {
   "cell_type": "code",
   "execution_count": 6,
   "id": "3812c557",
   "metadata": {},
   "outputs": [],
   "source": [
    "loss = nn.MSELoss()"
   ]
  },
  {
   "cell_type": "raw",
   "id": "f6019de8",
   "metadata": {},
   "source": [
    "3.3.6. 定义优化算法\n",
    "小批量随机梯度下降算法是一种优化神经网络的标准工具， PyTorch在模块中实现了该算法的许多变种。 当我们实例化一个实例时，我们要指定优化的参数 （可通过从我们的模型中获得）以及优化算法所需的超参数字典。 小批量随机梯度下降只需要设置值，这里设置为0.03。"
   ]
  },
  {
   "cell_type": "code",
   "execution_count": 7,
   "id": "01e5a249",
   "metadata": {},
   "outputs": [],
   "source": [
    "trainer = torch.optim.SGD(net.parameters(), lr=0.03)"
   ]
  },
  {
   "cell_type": "raw",
   "id": "fbe1cdf5",
   "metadata": {},
   "source": [
    "3.3.7. 训练"
   ]
  },
  {
   "cell_type": "raw",
   "id": "2eaa9561",
   "metadata": {},
   "source": [
    "通过深度学习框架的高级API来实现我们的模型只需要相对较少的代码。 我们不必单独分配参数、不必定义我们的损失函数，也不必手动实现小批量随机梯度下降。 当我们需要更复杂的模型时，高级API的优势将大大增加。 当我们有了所有的基本组件，训练过程代码与我们从零开始实现时所做的非常相似。"
   ]
  },
  {
   "cell_type": "code",
   "execution_count": 8,
   "id": "e788fbbe",
   "metadata": {},
   "outputs": [
    {
     "name": "stdout",
     "output_type": "stream",
     "text": [
      "epoch 1, loss 0.000275\n",
      "epoch 2, loss 0.000097\n",
      "epoch 3, loss 0.000098\n"
     ]
    }
   ],
   "source": [
    "num_epochs = 3\n",
    "for epoch in range(num_epochs):\n",
    "    for X, y in data_iter:\n",
    "        l = loss(net(X) ,y)\n",
    "        trainer.zero_grad()\n",
    "        l.backward()\n",
    "        trainer.step()\n",
    "    l = loss(net(features), labels)\n",
    "    print(f'epoch {epoch + 1}, loss {l:f}')"
   ]
  },
  {
   "cell_type": "code",
   "execution_count": 9,
   "id": "e59496f5",
   "metadata": {},
   "outputs": [
    {
     "name": "stdout",
     "output_type": "stream",
     "text": [
      "w的估计误差： tensor([-0.0009, -0.0006])\n",
      "b的估计误差： tensor([0.0005])\n"
     ]
    }
   ],
   "source": [
    "w = net[0].weight.data\n",
    "print('w的估计误差：', true_w - w.reshape(true_w.shape))\n",
    "b = net[0].bias.data\n",
    "print('b的估计误差：', true_b - b)"
   ]
  },
  {
   "cell_type": "code",
   "execution_count": null,
   "id": "b8ede003",
   "metadata": {},
   "outputs": [],
   "source": []
  }
 ],
 "metadata": {
  "kernelspec": {
   "display_name": "Python 3 (ipykernel)",
   "language": "python",
   "name": "python3"
  },
  "language_info": {
   "codemirror_mode": {
    "name": "ipython",
    "version": 3
   },
   "file_extension": ".py",
   "mimetype": "text/x-python",
   "name": "python",
   "nbconvert_exporter": "python",
   "pygments_lexer": "ipython3",
   "version": "3.9.12"
  }
 },
 "nbformat": 4,
 "nbformat_minor": 5
}
